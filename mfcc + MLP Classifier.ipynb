{
 "cells": [
  {
   "cell_type": "code",
   "execution_count": 129,
   "id": "f5be040d-ee86-4bdc-8699-487866561ff3",
   "metadata": {},
   "outputs": [
    {
     "name": "stdout",
     "output_type": "stream",
     "text": [
      "Collecting scikit-learn==1.1.1\n",
      "  Downloading scikit_learn-1.1.1-cp38-cp38-win_amd64.whl (7.3 MB)\n",
      "     ---------------------------------------- 7.3/7.3 MB 67.0 MB/s eta 0:00:00\n",
      "Requirement already satisfied: joblib>=1.0.0 in c:\\users\\cwj\\anaconda3\\lib\\site-packages (from scikit-learn==1.1.1) (1.1.0)\n",
      "Requirement already satisfied: numpy>=1.17.3 in c:\\users\\cwj\\anaconda3\\lib\\site-packages (from scikit-learn==1.1.1) (1.21.6)\n",
      "Requirement already satisfied: threadpoolctl>=2.0.0 in c:\\users\\cwj\\anaconda3\\lib\\site-packages (from scikit-learn==1.1.1) (3.1.0)\n",
      "Requirement already satisfied: scipy>=1.3.2 in c:\\users\\cwj\\anaconda3\\lib\\site-packages (from scikit-learn==1.1.1) (1.8.0)\n",
      "Installing collected packages: scikit-learn\n",
      "Successfully installed scikit-learn-1.1.1\n"
     ]
    }
   ],
   "source": [
    "!pip install scikit-learn==1.1.1 --user"
   ]
  },
  {
   "cell_type": "code",
   "execution_count": 2,
   "id": "91c88de3",
   "metadata": {
    "scrolled": true
   },
   "outputs": [
    {
     "name": "stdout",
     "output_type": "stream",
     "text": [
      "Collecting librosa\n",
      "  Downloading librosa-0.9.1-py3-none-any.whl (213 kB)\n",
      "     ------------------------------------- 213.1/213.1 KB 12.7 MB/s eta 0:00:00\n",
      "Collecting audioread>=2.1.5\n",
      "  Downloading audioread-2.1.9.tar.gz (377 kB)\n",
      "     ------------------------------------- 377.5/377.5 KB 23.0 MB/s eta 0:00:00\n",
      "  Preparing metadata (setup.py): started\n",
      "  Preparing metadata (setup.py): finished with status 'done'\n",
      "Collecting resampy>=0.2.2\n",
      "  Downloading resampy-0.2.2.tar.gz (323 kB)\n",
      "     ------------------------------------- 323.4/323.4 KB 19.6 MB/s eta 0:00:00\n",
      "  Preparing metadata (setup.py): started\n",
      "  Preparing metadata (setup.py): finished with status 'done'\n",
      "Requirement already satisfied: numba>=0.45.1 in d:\\users\\lib\\site-packages (from librosa) (0.54.1)\n",
      "Requirement already satisfied: numpy>=1.17.0 in d:\\users\\lib\\site-packages (from librosa) (1.20.3)\n",
      "Requirement already satisfied: scipy>=1.2.0 in d:\\users\\lib\\site-packages (from librosa) (1.7.1)\n",
      "Requirement already satisfied: packaging>=20.0 in d:\\users\\lib\\site-packages (from librosa) (21.0)\n",
      "Requirement already satisfied: decorator>=4.0.10 in d:\\users\\lib\\site-packages (from librosa) (5.1.0)\n",
      "Collecting pooch>=1.0\n",
      "  Downloading pooch-1.6.0-py3-none-any.whl (56 kB)\n",
      "     ---------------------------------------- 56.3/56.3 KB ? eta 0:00:00\n",
      "Requirement already satisfied: joblib>=0.14 in d:\\users\\lib\\site-packages (from librosa) (1.1.0)\n",
      "Requirement already satisfied: scikit-learn>=0.19.1 in d:\\users\\lib\\site-packages (from librosa) (1.0.2)\n",
      "Collecting soundfile>=0.10.2\n",
      "  Downloading SoundFile-0.10.3.post1-py2.py3.cp26.cp27.cp32.cp33.cp34.cp35.cp36.pp27.pp32.pp33-none-win_amd64.whl (689 kB)\n",
      "     ------------------------------------- 689.4/689.4 KB 21.9 MB/s eta 0:00:00\n",
      "Requirement already satisfied: setuptools in d:\\users\\lib\\site-packages (from numba>=0.45.1->librosa) (58.0.4)\n",
      "Requirement already satisfied: llvmlite<0.38,>=0.37.0rc1 in d:\\users\\lib\\site-packages (from numba>=0.45.1->librosa) (0.37.0)\n",
      "Requirement already satisfied: pyparsing>=2.0.2 in d:\\users\\lib\\site-packages (from packaging>=20.0->librosa) (3.0.4)\n",
      "Requirement already satisfied: requests>=2.19.0 in d:\\users\\lib\\site-packages (from pooch>=1.0->librosa) (2.26.0)\n",
      "Requirement already satisfied: appdirs>=1.3.0 in d:\\users\\lib\\site-packages (from pooch>=1.0->librosa) (1.4.4)\n",
      "Requirement already satisfied: six>=1.3 in d:\\users\\lib\\site-packages (from resampy>=0.2.2->librosa) (1.16.0)\n",
      "Requirement already satisfied: threadpoolctl>=2.0.0 in d:\\users\\lib\\site-packages (from scikit-learn>=0.19.1->librosa) (2.2.0)\n",
      "Requirement already satisfied: cffi>=1.0 in d:\\users\\lib\\site-packages (from soundfile>=0.10.2->librosa) (1.14.6)\n",
      "Requirement already satisfied: pycparser in d:\\users\\lib\\site-packages (from cffi>=1.0->soundfile>=0.10.2->librosa) (2.20)\n",
      "Requirement already satisfied: urllib3<1.27,>=1.21.1 in d:\\users\\lib\\site-packages (from requests>=2.19.0->pooch>=1.0->librosa) (1.26.7)\n",
      "Requirement already satisfied: certifi>=2017.4.17 in d:\\users\\lib\\site-packages (from requests>=2.19.0->pooch>=1.0->librosa) (2021.10.8)\n",
      "Requirement already satisfied: charset-normalizer~=2.0.0 in d:\\users\\lib\\site-packages (from requests>=2.19.0->pooch>=1.0->librosa) (2.0.4)\n",
      "Requirement already satisfied: idna<4,>=2.5 in d:\\users\\lib\\site-packages (from requests>=2.19.0->pooch>=1.0->librosa) (3.2)\n",
      "Building wheels for collected packages: audioread, resampy\n",
      "  Building wheel for audioread (setup.py): started\n",
      "  Building wheel for audioread (setup.py): finished with status 'done'\n",
      "  Created wheel for audioread: filename=audioread-2.1.9-py3-none-any.whl size=23154 sha256=b50567748bb8985a5c63988b823c0850716c3cf0ef40374e974c842a5c516525\n",
      "  Stored in directory: c:\\users\\김태환\\appdata\\local\\pip\\cache\\wheels\\a2\\a3\\bd\\ec1568ce7515115a11ab686d509ad302124c782af065de47ee\n",
      "  Building wheel for resampy (setup.py): started\n",
      "  Building wheel for resampy (setup.py): finished with status 'done'\n",
      "  Created wheel for resampy: filename=resampy-0.2.2-py3-none-any.whl size=320731 sha256=c3d68f0ef408df3f71849c9848dde82399a5a1c043d45a74ef11251738eaa160\n",
      "  Stored in directory: c:\\users\\김태환\\appdata\\local\\pip\\cache\\wheels\\86\\2c\\7d\\46a32a246b0e5939cea2c5ec1492164073e0c5d16d666ae2cd\n",
      "Successfully built audioread resampy\n",
      "Installing collected packages: audioread, soundfile, resampy, pooch, librosa\n",
      "Successfully installed audioread-2.1.9 librosa-0.9.1 pooch-1.6.0 resampy-0.2.2 soundfile-0.10.3.post1\n"
     ]
    },
    {
     "name": "stderr",
     "output_type": "stream",
     "text": [
      "WARNING: You are using pip version 22.0.4; however, version 22.1.2 is available.\n",
      "You should consider upgrading via the 'D:\\users\\python.exe -m pip install --upgrade pip' command.\n"
     ]
    }
   ],
   "source": [
    "!pip install librosa"
   ]
  },
  {
   "cell_type": "markdown",
   "id": "4ffc0fb5-5918-4ed2-8374-0c6513a267a2",
   "metadata": {},
   "source": [
    "## Import"
   ]
  },
  {
   "cell_type": "code",
   "execution_count": 4,
   "id": "dd23f502-45c6-43a5-92a2-c5b9735449ac",
   "metadata": {},
   "outputs": [],
   "source": [
    "import random\n",
    "import pandas as pd\n",
    "import numpy as np\n",
    "import matplotlib.pyplot as plt\n",
    "import seaborn as sns\n",
    "import os\n",
    "import librosa, librosa.display\n",
    "import tensorflow as tf\n",
    "import glob\n",
    "from tensorflow import keras\n",
    "from tensorflow.keras import layers\n",
    "from tqdm.auto import tqdm\n",
    "from sklearn.neural_network import MLPClassifier\n",
    "from sklearn.preprocessing import OneHotEncoder\n",
    "from sklearn.model_selection import train_test_split\n",
    "import warnings\n",
    "warnings.filterwarnings(action='ignore')"
   ]
  },
  {
   "cell_type": "markdown",
   "id": "eaff0b9e-95cb-4172-8ee2-2bc6bc5c8afa",
   "metadata": {},
   "source": [
    "## Hyperparameter Setting"
   ]
  },
  {
   "cell_type": "code",
   "execution_count": 5,
   "id": "17027eb2-ab83-450b-97d0-28dff9cb2731",
   "metadata": {},
   "outputs": [],
   "source": [
    "CFG = {\n",
    "    'SR':16000, # Sampling rate 음성 주파수 사람이 음성은 16000hz까지만 \n",
    "    'N_MFCC':50, # MFCC 벡터를 추출할 개수 - 더 다양한 데이터의 특징을 추출하기위해선 증가\n",
    "    'SEED': 50\n",
    "}"
   ]
  },
  {
   "cell_type": "code",
   "execution_count": 6,
   "id": "a99b0df4",
   "metadata": {},
   "outputs": [],
   "source": [
    " physical_devices = tf.config.list_physical_devices('GPU')\n",
    "try:\n",
    "  tf.config.experimental.set_memory_growth(physical_devices[0], True)\n",
    "except:\n",
    "  # Invalid device or cannot modify virtual devices once initialized.\n",
    "  pass"
   ]
  },
  {
   "cell_type": "markdown",
   "id": "1b8abaa4-229d-4ce9-a737-3263fc9c6213",
   "metadata": {},
   "source": [
    "## Fixed Random-Seed"
   ]
  },
  {
   "cell_type": "code",
   "execution_count": 7,
   "id": "a89a75c6-42e9-4a60-8ca2-b70df1248871",
   "metadata": {},
   "outputs": [],
   "source": [
    "def seed_everything(seed):\n",
    "    random.seed(seed)\n",
    "    os.environ['PYTHONHASHSEED'] = str(seed)\n",
    "    np.random.seed(seed)\n",
    "\n",
    "seed_everything(CFG['SEED']) # Seed 고정"
   ]
  },
  {
   "cell_type": "markdown",
   "id": "72d57a51-dc27-4af5-9261-91f61194d975",
   "metadata": {},
   "source": [
    "## Data Pre-Processing 1"
   ]
  },
  {
   "cell_type": "code",
   "execution_count": 8,
   "id": "0da03dd7-888b-44f2-80ae-cb28fd091de3",
   "metadata": {},
   "outputs": [],
   "source": [
    "train_df = pd.read_csv('wav_dataset/train_data.csv')\n",
    "test_df = pd.read_csv('wav_dataset/test_data.csv')\n",
    "unlabeled_df = pd.read_csv('wav_dataset/unlabeled_data.csv')"
   ]
  },
  {
   "cell_type": "markdown",
   "id": "873d4f14",
   "metadata": {},
   "source": [
    "# MFCC"
   ]
  },
  {
   "cell_type": "code",
   "execution_count": 9,
   "id": "9601f0b0-6d28-48de-88d3-3c68d43ad2c0",
   "metadata": {},
   "outputs": [],
   "source": [
    "def get_mfcc_feature(df, data_type, save_path):\n",
    "    # Data Folder path\n",
    "    root_folder = './wav_dataset'\n",
    "    if os.path.exists(save_path):\n",
    "        print(f'{save_path} is exist.')\n",
    "        return\n",
    "    features = []\n",
    "    for uid in tqdm(df['id']):\n",
    "        root_path = os.path.join(root_folder, data_type)\n",
    "        path = os.path.join(root_path, str(uid).zfill(5)+'.wav')\n",
    "\n",
    "        # librosa패키지를 사용하여 wav 파일 load\n",
    "        y, sr = librosa.load(path, sr=CFG['SR'])\n",
    "        \n",
    "        # librosa패키지를 사용하여 mfcc 추출\n",
    "        mfcc = librosa.feature.mfcc(y=y, sr=sr, n_mfcc=CFG['N_MFCC'])\n",
    "\n",
    "        y_feature = []\n",
    "        # 추출된 MFCC들의 평균을 Feature로 사용\n",
    "        for e in mfcc:\n",
    "            y_feature.append(e)\n",
    "            #y_feature.append(np.std(e))\n",
    "        features.append(y_feature)\n",
    "    \n",
    "    # 기존의 자가진단 정보를 담은 데이터프레임에 추출된 오디오 Feature를 추가\n",
    "    mfcc_df = pd.DataFrame(features, columns=['std_'+str(x) for x in range(1,CFG['N_MFCC']+1)])\n",
    "    df = pd.concat([df, mfcc_df], axis=1)\n",
    "    df.to_csv(save_path, index=False)\n",
    "    print('Done.')"
   ]
  },
  {
   "cell_type": "code",
   "execution_count": null,
   "id": "0fe5713d-4bff-4598-bbfd-5cfb1b3109ac",
   "metadata": {
    "scrolled": true
   },
   "outputs": [
    {
     "data": {
      "application/vnd.jupyter.widget-view+json": {
       "model_id": "7f1d9f7fabac4f5eb99afd795206555e",
       "version_major": 2,
       "version_minor": 0
      },
      "text/plain": [
       "  0%|          | 0/3805 [00:00<?, ?it/s]"
      ]
     },
     "metadata": {},
     "output_type": "display_data"
    }
   ],
   "source": [
    "get_mfcc_feature(train_df, 'train', './train_mfcc50_e_data.csv')\n",
    "get_mfcc_feature(test_df, 'test', './test_mfcc50_e_data.csv')\n",
    "# get_mfcc_feature(unlabeled_df, 'unlabeled', './unlabeled_mfcc_data.csv')"
   ]
  },
  {
   "cell_type": "markdown",
   "id": "b87e0cf5",
   "metadata": {},
   "source": [
    "# Melspectrogram"
   ]
  },
  {
   "cell_type": "code",
   "execution_count": 185,
   "id": "d5f31bfe",
   "metadata": {
    "scrolled": true
   },
   "outputs": [],
   "source": [
    "def get_melspectrogram(df, data_type, save_path):\n",
    "    root_folder = './wav_dataset'\n",
    "    if os.path.exists(save_path):\n",
    "        print(f'{save_path} is exist.')\n",
    "        return\n",
    "    features = []\n",
    "    for uid in tqdm(df['id']):\n",
    "        root_path = os.path.join(root_folder, data_type)\n",
    "        path = os.path.join(root_path, str(uid).zfill(5)+'.wav')\n",
    "\n",
    "        # librosa패키지를 사용하여 wav 파일 load\n",
    "        y, sr = librosa.load(path, sr=CFG['SR'])\n",
    "        \n",
    "        # librosa패키지를 사용하여 melspectrogram 추출\n",
    "        # n_fft = 2048\n",
    "        # win_length = 2048\n",
    "        # hop_length = 1024\n",
    "        # n_mels = 128\n",
    "        # D = np.abs(librosa.stft(y, n_fft=n_fft, win_length=win_length, hop_length=hop_length))\n",
    "        # melspectrogram = librosa.feature.melspectrogram(S=D, sr=sr, n_mels=n_mels, hop_length = hop_length, win_length = win_length)\n",
    "        melspectrogram = librosa.feature.melspectrogram(y=y, sr=sr, n_fft=128)\n",
    "\n",
    "        y_feature = []\n",
    "        # 추출된 MFCC들의 평균을 Feature로 사용\n",
    "        for e in melspectrogram:\n",
    "            y_feature.append(np.mean(e))\n",
    "        features.append(y_feature)\n",
    "        \n",
    "    mel_df = pd.DataFrame(features, columns=['mel_'+str(x) for x in range(1,128+1)])\n",
    "    df = pd.concat([df, mel_df], axis=1)\n",
    "    df.to_csv(save_path, index=False)\n",
    "    print('Done.')"
   ]
  },
  {
   "cell_type": "code",
   "execution_count": 186,
   "id": "50ab71d2",
   "metadata": {},
   "outputs": [
    {
     "data": {
      "application/vnd.jupyter.widget-view+json": {
       "model_id": "83652e5e6f46456ea2873f47ad7538d2",
       "version_major": 2,
       "version_minor": 0
      },
      "text/plain": [
       "  0%|          | 0/3805 [00:00<?, ?it/s]"
      ]
     },
     "metadata": {},
     "output_type": "display_data"
    },
    {
     "name": "stdout",
     "output_type": "stream",
     "text": [
      "Done.\n"
     ]
    },
    {
     "data": {
      "application/vnd.jupyter.widget-view+json": {
       "model_id": "3609c2a6af0043f4ad678b81496ea992",
       "version_major": 2,
       "version_minor": 0
      },
      "text/plain": [
       "  0%|          | 0/5732 [00:00<?, ?it/s]"
      ]
     },
     "metadata": {},
     "output_type": "display_data"
    },
    {
     "name": "stdout",
     "output_type": "stream",
     "text": [
      "Done.\n"
     ]
    }
   ],
   "source": [
    "get_melspectrogram(train_df, 'train', './train_melspec_data.csv')\n",
    "get_melspectrogram(test_df, 'test', './test_melspec_data.csv')"
   ]
  },
  {
   "cell_type": "markdown",
   "id": "25341b94",
   "metadata": {},
   "source": [
    "# CENS"
   ]
  },
  {
   "cell_type": "code",
   "execution_count": 6,
   "id": "c57bff73",
   "metadata": {},
   "outputs": [],
   "source": [
    "def get_chroma_cens(df, data_type, save_path):\n",
    "    root_folder = './wav_dataset'\n",
    "    if os.path.exists(save_path):\n",
    "        print(f'{save_path} is exist.')\n",
    "        return\n",
    "    features = []\n",
    "    for uid in tqdm(df['id']):\n",
    "        root_path = os.path.join(root_folder, data_type)\n",
    "        path = os.path.join(root_path, str(uid).zfill(5)+'.wav')\n",
    "\n",
    "        # librosa패키지를 사용하여 wav 파일 load\n",
    "        y, sr = librosa.load(path, sr=CFG['SR'])\n",
    "        \n",
    "        # librosa패키지를 사용하여 mfcc 추출\n",
    "        cens = librosa.feature.chroma_cens(y=y, sr=sr, hop_length=32)\n",
    "\n",
    "        y_feature = []\n",
    "        # 추출된 MFCC들의 평균을 Feature로 사용\n",
    "        for e in cens:\n",
    "            y_feature.append(np.mean(e))\n",
    "        features.append(y_feature)\n",
    "        \n",
    "    cens_df = pd.DataFrame(features, columns=['cens_'+str(x) for x in range(1,12+1)])\n",
    "    df = pd.concat([df, cens_df], axis=1)\n",
    "    df.to_csv(save_path, index=False)\n",
    "    print('Done.')"
   ]
  },
  {
   "cell_type": "code",
   "execution_count": 7,
   "id": "58be5968",
   "metadata": {},
   "outputs": [
    {
     "data": {
      "application/vnd.jupyter.widget-view+json": {
       "model_id": "f9670929a5f24889ba130fb85895cba6",
       "version_major": 2,
       "version_minor": 0
      },
      "text/plain": [
       "  0%|          | 0/3805 [00:00<?, ?it/s]"
      ]
     },
     "metadata": {},
     "output_type": "display_data"
    },
    {
     "name": "stdout",
     "output_type": "stream",
     "text": [
      "Done.\n"
     ]
    },
    {
     "data": {
      "application/vnd.jupyter.widget-view+json": {
       "model_id": "c4d14114e8ed4ba9a84a83f04ee0996d",
       "version_major": 2,
       "version_minor": 0
      },
      "text/plain": [
       "  0%|          | 0/5732 [00:00<?, ?it/s]"
      ]
     },
     "metadata": {},
     "output_type": "display_data"
    },
    {
     "name": "stdout",
     "output_type": "stream",
     "text": [
      "Done.\n"
     ]
    }
   ],
   "source": [
    "get_chroma_cens(train_df, 'train', './train_cens_data.csv')\n",
    "get_chroma_cens(test_df, 'test', './test_cens_data.csv')"
   ]
  },
  {
   "cell_type": "markdown",
   "id": "c998e196-6a3b-4214-8495-f026c015f8c5",
   "metadata": {},
   "source": [
    "## Data Pre-Processing 2"
   ]
  },
  {
   "cell_type": "code",
   "execution_count": 112,
   "id": "98fb2059-30bf-48e9-a57f-f27acbb05589",
   "metadata": {},
   "outputs": [],
   "source": [
    "# wav 파일의 MFCC Feature와 상태정보를 합친 학습데이터를 불러옵니다.\n",
    "mfcc = pd.read_csv('./train_mfcc50_data.csv')\n",
    "std = pd.read_csv('./train_mfcc50_std_data.csv')\n",
    "mel = pd.read_csv('./train_melspec_data.csv')\n",
    "cens = pd.read_csv('./train_cens_data.csv')"
   ]
  },
  {
   "cell_type": "code",
   "execution_count": 113,
   "id": "ef0cc9e3-63db-453b-a307-bc88c10173e2",
   "metadata": {},
   "outputs": [],
   "source": [
    "# gender 성별 other 제거 전처리\n",
    "# other = train_df['gender'].isin(['other'])\n",
    "# train_df = train_df[~other]\n",
    "# train_df['gender'].unique()\n",
    "# train_df = train_df.reset_index(drop=True)\n",
    "# train_df"
   ]
  },
  {
   "cell_type": "code",
   "execution_count": 114,
   "id": "fe4b6218-38d3-43b1-b730-63c7d56236d6",
   "metadata": {},
   "outputs": [
    {
     "data": {
      "text/html": [
       "<div>\n",
       "<style scoped>\n",
       "    .dataframe tbody tr th:only-of-type {\n",
       "        vertical-align: middle;\n",
       "    }\n",
       "\n",
       "    .dataframe tbody tr th {\n",
       "        vertical-align: top;\n",
       "    }\n",
       "\n",
       "    .dataframe thead th {\n",
       "        text-align: right;\n",
       "    }\n",
       "</style>\n",
       "<table border=\"1\" class=\"dataframe\">\n",
       "  <thead>\n",
       "    <tr style=\"text-align: right;\">\n",
       "      <th></th>\n",
       "      <th>id</th>\n",
       "      <th>age</th>\n",
       "      <th>gender</th>\n",
       "      <th>respiratory_condition</th>\n",
       "      <th>fever_or_muscle_pain</th>\n",
       "      <th>covid19</th>\n",
       "      <th>mfcc_1</th>\n",
       "      <th>mfcc_2</th>\n",
       "      <th>mfcc_3</th>\n",
       "      <th>mfcc_4</th>\n",
       "      <th>...</th>\n",
       "      <th>std_41</th>\n",
       "      <th>std_42</th>\n",
       "      <th>std_43</th>\n",
       "      <th>std_44</th>\n",
       "      <th>std_45</th>\n",
       "      <th>std_46</th>\n",
       "      <th>std_47</th>\n",
       "      <th>std_48</th>\n",
       "      <th>std_49</th>\n",
       "      <th>std_50</th>\n",
       "    </tr>\n",
       "  </thead>\n",
       "  <tbody>\n",
       "    <tr>\n",
       "      <th>0</th>\n",
       "      <td>1</td>\n",
       "      <td>24</td>\n",
       "      <td>female</td>\n",
       "      <td>0</td>\n",
       "      <td>1</td>\n",
       "      <td>0</td>\n",
       "      <td>-274.93472</td>\n",
       "      <td>29.345425</td>\n",
       "      <td>-19.152718</td>\n",
       "      <td>-7.836880</td>\n",
       "      <td>...</td>\n",
       "      <td>3.940978</td>\n",
       "      <td>4.168008</td>\n",
       "      <td>3.704519</td>\n",
       "      <td>3.413724</td>\n",
       "      <td>2.929554</td>\n",
       "      <td>3.248392</td>\n",
       "      <td>3.697180</td>\n",
       "      <td>3.536256</td>\n",
       "      <td>3.146748</td>\n",
       "      <td>2.808870</td>\n",
       "    </tr>\n",
       "    <tr>\n",
       "      <th>1</th>\n",
       "      <td>2</td>\n",
       "      <td>51</td>\n",
       "      <td>male</td>\n",
       "      <td>0</td>\n",
       "      <td>0</td>\n",
       "      <td>0</td>\n",
       "      <td>-311.56317</td>\n",
       "      <td>52.478150</td>\n",
       "      <td>-0.098956</td>\n",
       "      <td>-11.070889</td>\n",
       "      <td>...</td>\n",
       "      <td>2.902553</td>\n",
       "      <td>3.375166</td>\n",
       "      <td>2.895491</td>\n",
       "      <td>3.463745</td>\n",
       "      <td>2.674759</td>\n",
       "      <td>3.713707</td>\n",
       "      <td>2.245376</td>\n",
       "      <td>3.168638</td>\n",
       "      <td>2.803887</td>\n",
       "      <td>2.966493</td>\n",
       "    </tr>\n",
       "    <tr>\n",
       "      <th>2</th>\n",
       "      <td>3</td>\n",
       "      <td>22</td>\n",
       "      <td>male</td>\n",
       "      <td>0</td>\n",
       "      <td>0</td>\n",
       "      <td>0</td>\n",
       "      <td>-438.29000</td>\n",
       "      <td>46.588910</td>\n",
       "      <td>-22.689060</td>\n",
       "      <td>-3.607528</td>\n",
       "      <td>...</td>\n",
       "      <td>2.923307</td>\n",
       "      <td>2.826745</td>\n",
       "      <td>2.836245</td>\n",
       "      <td>3.008061</td>\n",
       "      <td>4.059071</td>\n",
       "      <td>2.986710</td>\n",
       "      <td>2.961419</td>\n",
       "      <td>2.294150</td>\n",
       "      <td>2.040008</td>\n",
       "      <td>2.326215</td>\n",
       "    </tr>\n",
       "    <tr>\n",
       "      <th>3</th>\n",
       "      <td>4</td>\n",
       "      <td>29</td>\n",
       "      <td>female</td>\n",
       "      <td>1</td>\n",
       "      <td>0</td>\n",
       "      <td>0</td>\n",
       "      <td>-368.42612</td>\n",
       "      <td>46.939358</td>\n",
       "      <td>-7.443123</td>\n",
       "      <td>-3.694383</td>\n",
       "      <td>...</td>\n",
       "      <td>3.089176</td>\n",
       "      <td>3.700883</td>\n",
       "      <td>2.960053</td>\n",
       "      <td>3.161702</td>\n",
       "      <td>3.135634</td>\n",
       "      <td>3.220121</td>\n",
       "      <td>3.039690</td>\n",
       "      <td>3.141579</td>\n",
       "      <td>2.571923</td>\n",
       "      <td>2.961397</td>\n",
       "    </tr>\n",
       "    <tr>\n",
       "      <th>4</th>\n",
       "      <td>5</td>\n",
       "      <td>23</td>\n",
       "      <td>male</td>\n",
       "      <td>0</td>\n",
       "      <td>0</td>\n",
       "      <td>0</td>\n",
       "      <td>-535.19446</td>\n",
       "      <td>7.165523</td>\n",
       "      <td>-7.422007</td>\n",
       "      <td>2.231186</td>\n",
       "      <td>...</td>\n",
       "      <td>1.806763</td>\n",
       "      <td>2.371473</td>\n",
       "      <td>1.541948</td>\n",
       "      <td>2.607864</td>\n",
       "      <td>1.428324</td>\n",
       "      <td>2.125716</td>\n",
       "      <td>1.746210</td>\n",
       "      <td>1.723021</td>\n",
       "      <td>1.656174</td>\n",
       "      <td>2.108295</td>\n",
       "    </tr>\n",
       "    <tr>\n",
       "      <th>...</th>\n",
       "      <td>...</td>\n",
       "      <td>...</td>\n",
       "      <td>...</td>\n",
       "      <td>...</td>\n",
       "      <td>...</td>\n",
       "      <td>...</td>\n",
       "      <td>...</td>\n",
       "      <td>...</td>\n",
       "      <td>...</td>\n",
       "      <td>...</td>\n",
       "      <td>...</td>\n",
       "      <td>...</td>\n",
       "      <td>...</td>\n",
       "      <td>...</td>\n",
       "      <td>...</td>\n",
       "      <td>...</td>\n",
       "      <td>...</td>\n",
       "      <td>...</td>\n",
       "      <td>...</td>\n",
       "      <td>...</td>\n",
       "      <td>...</td>\n",
       "    </tr>\n",
       "    <tr>\n",
       "      <th>3800</th>\n",
       "      <td>3801</td>\n",
       "      <td>53</td>\n",
       "      <td>male</td>\n",
       "      <td>0</td>\n",
       "      <td>0</td>\n",
       "      <td>0</td>\n",
       "      <td>-328.48767</td>\n",
       "      <td>68.190380</td>\n",
       "      <td>-40.383747</td>\n",
       "      <td>2.297682</td>\n",
       "      <td>...</td>\n",
       "      <td>6.964136</td>\n",
       "      <td>9.271381</td>\n",
       "      <td>9.152610</td>\n",
       "      <td>11.020420</td>\n",
       "      <td>7.013804</td>\n",
       "      <td>7.292320</td>\n",
       "      <td>5.920861</td>\n",
       "      <td>6.238069</td>\n",
       "      <td>4.616245</td>\n",
       "      <td>4.588425</td>\n",
       "    </tr>\n",
       "    <tr>\n",
       "      <th>3801</th>\n",
       "      <td>3802</td>\n",
       "      <td>25</td>\n",
       "      <td>male</td>\n",
       "      <td>0</td>\n",
       "      <td>0</td>\n",
       "      <td>0</td>\n",
       "      <td>-386.25732</td>\n",
       "      <td>73.931350</td>\n",
       "      <td>-12.114974</td>\n",
       "      <td>-0.500644</td>\n",
       "      <td>...</td>\n",
       "      <td>4.896223</td>\n",
       "      <td>4.390753</td>\n",
       "      <td>5.094110</td>\n",
       "      <td>5.288200</td>\n",
       "      <td>6.331296</td>\n",
       "      <td>8.516347</td>\n",
       "      <td>7.311387</td>\n",
       "      <td>5.686339</td>\n",
       "      <td>4.536681</td>\n",
       "      <td>5.272469</td>\n",
       "    </tr>\n",
       "    <tr>\n",
       "      <th>3802</th>\n",
       "      <td>3803</td>\n",
       "      <td>26</td>\n",
       "      <td>female</td>\n",
       "      <td>0</td>\n",
       "      <td>0</td>\n",
       "      <td>0</td>\n",
       "      <td>-347.20593</td>\n",
       "      <td>58.544130</td>\n",
       "      <td>12.969809</td>\n",
       "      <td>27.973340</td>\n",
       "      <td>...</td>\n",
       "      <td>3.594398</td>\n",
       "      <td>2.927548</td>\n",
       "      <td>2.842786</td>\n",
       "      <td>3.129517</td>\n",
       "      <td>3.209869</td>\n",
       "      <td>2.796238</td>\n",
       "      <td>2.546851</td>\n",
       "      <td>3.392260</td>\n",
       "      <td>2.859212</td>\n",
       "      <td>2.692866</td>\n",
       "    </tr>\n",
       "    <tr>\n",
       "      <th>3803</th>\n",
       "      <td>3804</td>\n",
       "      <td>27</td>\n",
       "      <td>female</td>\n",
       "      <td>0</td>\n",
       "      <td>0</td>\n",
       "      <td>0</td>\n",
       "      <td>-179.11195</td>\n",
       "      <td>70.697860</td>\n",
       "      <td>-14.571251</td>\n",
       "      <td>-10.143574</td>\n",
       "      <td>...</td>\n",
       "      <td>4.868105</td>\n",
       "      <td>4.600739</td>\n",
       "      <td>4.650938</td>\n",
       "      <td>3.927352</td>\n",
       "      <td>4.996378</td>\n",
       "      <td>4.030235</td>\n",
       "      <td>4.039797</td>\n",
       "      <td>4.363599</td>\n",
       "      <td>5.360180</td>\n",
       "      <td>4.493088</td>\n",
       "    </tr>\n",
       "    <tr>\n",
       "      <th>3804</th>\n",
       "      <td>3805</td>\n",
       "      <td>49</td>\n",
       "      <td>female</td>\n",
       "      <td>1</td>\n",
       "      <td>1</td>\n",
       "      <td>0</td>\n",
       "      <td>-308.60490</td>\n",
       "      <td>85.642650</td>\n",
       "      <td>11.310870</td>\n",
       "      <td>12.702834</td>\n",
       "      <td>...</td>\n",
       "      <td>5.732705</td>\n",
       "      <td>5.824013</td>\n",
       "      <td>6.939557</td>\n",
       "      <td>6.958249</td>\n",
       "      <td>5.331072</td>\n",
       "      <td>4.659515</td>\n",
       "      <td>4.546933</td>\n",
       "      <td>5.848401</td>\n",
       "      <td>4.047602</td>\n",
       "      <td>4.847332</td>\n",
       "    </tr>\n",
       "  </tbody>\n",
       "</table>\n",
       "<p>3805 rows × 106 columns</p>\n",
       "</div>"
      ],
      "text/plain": [
       "        id  age  gender  respiratory_condition  fever_or_muscle_pain  covid19  \\\n",
       "0        1   24  female                      0                     1        0   \n",
       "1        2   51    male                      0                     0        0   \n",
       "2        3   22    male                      0                     0        0   \n",
       "3        4   29  female                      1                     0        0   \n",
       "4        5   23    male                      0                     0        0   \n",
       "...    ...  ...     ...                    ...                   ...      ...   \n",
       "3800  3801   53    male                      0                     0        0   \n",
       "3801  3802   25    male                      0                     0        0   \n",
       "3802  3803   26  female                      0                     0        0   \n",
       "3803  3804   27  female                      0                     0        0   \n",
       "3804  3805   49  female                      1                     1        0   \n",
       "\n",
       "         mfcc_1     mfcc_2     mfcc_3     mfcc_4  ...    std_41    std_42  \\\n",
       "0    -274.93472  29.345425 -19.152718  -7.836880  ...  3.940978  4.168008   \n",
       "1    -311.56317  52.478150  -0.098956 -11.070889  ...  2.902553  3.375166   \n",
       "2    -438.29000  46.588910 -22.689060  -3.607528  ...  2.923307  2.826745   \n",
       "3    -368.42612  46.939358  -7.443123  -3.694383  ...  3.089176  3.700883   \n",
       "4    -535.19446   7.165523  -7.422007   2.231186  ...  1.806763  2.371473   \n",
       "...         ...        ...        ...        ...  ...       ...       ...   \n",
       "3800 -328.48767  68.190380 -40.383747   2.297682  ...  6.964136  9.271381   \n",
       "3801 -386.25732  73.931350 -12.114974  -0.500644  ...  4.896223  4.390753   \n",
       "3802 -347.20593  58.544130  12.969809  27.973340  ...  3.594398  2.927548   \n",
       "3803 -179.11195  70.697860 -14.571251 -10.143574  ...  4.868105  4.600739   \n",
       "3804 -308.60490  85.642650  11.310870  12.702834  ...  5.732705  5.824013   \n",
       "\n",
       "        std_43     std_44    std_45    std_46    std_47    std_48    std_49  \\\n",
       "0     3.704519   3.413724  2.929554  3.248392  3.697180  3.536256  3.146748   \n",
       "1     2.895491   3.463745  2.674759  3.713707  2.245376  3.168638  2.803887   \n",
       "2     2.836245   3.008061  4.059071  2.986710  2.961419  2.294150  2.040008   \n",
       "3     2.960053   3.161702  3.135634  3.220121  3.039690  3.141579  2.571923   \n",
       "4     1.541948   2.607864  1.428324  2.125716  1.746210  1.723021  1.656174   \n",
       "...        ...        ...       ...       ...       ...       ...       ...   \n",
       "3800  9.152610  11.020420  7.013804  7.292320  5.920861  6.238069  4.616245   \n",
       "3801  5.094110   5.288200  6.331296  8.516347  7.311387  5.686339  4.536681   \n",
       "3802  2.842786   3.129517  3.209869  2.796238  2.546851  3.392260  2.859212   \n",
       "3803  4.650938   3.927352  4.996378  4.030235  4.039797  4.363599  5.360180   \n",
       "3804  6.939557   6.958249  5.331072  4.659515  4.546933  5.848401  4.047602   \n",
       "\n",
       "        std_50  \n",
       "0     2.808870  \n",
       "1     2.966493  \n",
       "2     2.326215  \n",
       "3     2.961397  \n",
       "4     2.108295  \n",
       "...        ...  \n",
       "3800  4.588425  \n",
       "3801  5.272469  \n",
       "3802  2.692866  \n",
       "3803  4.493088  \n",
       "3804  4.847332  \n",
       "\n",
       "[3805 rows x 106 columns]"
      ]
     },
     "execution_count": 114,
     "metadata": {},
     "output_type": "execute_result"
    }
   ],
   "source": [
    "# mfcc + std feature merge\n",
    "merge = pd.merge(mfcc, std)\n",
    "train_df = merge\n",
    "train_df"
   ]
  },
  {
   "cell_type": "code",
   "execution_count": 115,
   "id": "f896cce2-0f47-4377-b2a1-95144e58581b",
   "metadata": {},
   "outputs": [],
   "source": [
    "# 학습데이터를 모델의 input으로 들어갈 x와 label로 사용할 y로 분할\n",
    "x_train = train_df.drop(columns=['id', 'covid19'])\n",
    "y_train = train_df['covid19']"
   ]
  },
  {
   "cell_type": "code",
   "execution_count": 116,
   "id": "fba6507b-6084-4e1a-8ba0-eab5263f9bfe",
   "metadata": {},
   "outputs": [
    {
     "data": {
      "image/png": "[encoded data removed]",
      "text/plain": [
       "<Figure size 432x288 with 1 Axes>"
      ]
     },
     "metadata": {
      "needs_background": "light"
     },
     "output_type": "display_data"
    }
   ],
   "source": [
    "ax = sns.countplot(x='covid19', data = train_df, hue='gender')\n",
    "plt.title('Number of covid-19 infected person')\n",
    "\n",
    "# countplot에 값 표시\n",
    "for p in ax.patches:\n",
    "    height = p.get_height()\n",
    "    ax.text(p.get_x() + p.get_width() / 2., height + 30, height, ha = 'center', size = 12)\n",
    "ax.set_ylim(0, 3000)\n",
    "plt.show()"
   ]
  },
  {
   "cell_type": "code",
   "execution_count": 117,
   "id": "c4a66ac7-c6db-4258-802a-9fedded85412",
   "metadata": {},
   "outputs": [],
   "source": [
    "def onehot_encoding(ohe, x):\n",
    "    # 학습데이터로 부터 fit된 one-hot encoder (ohe)를 받아 transform 시켜주는 함수\n",
    "    encoded = ohe.transform(x['gender'].values.reshape(-1,1))\n",
    "    encoded_df = pd.DataFrame(encoded.astype('int'), columns=ohe.categories_[0])\n",
    "    x = pd.concat([x.drop(columns=['gender']), encoded_df], axis=1)\n",
    "    return x"
   ]
  },
  {
   "cell_type": "code",
   "execution_count": 118,
   "id": "cade4609-22a8-40f1-936d-a8ec8ba90f4e",
   "metadata": {
    "tags": []
   },
   "outputs": [],
   "source": [
    "# 'gender' column의 경우 추가 전처리가 필요 -> OneHotEncoder 적용\n",
    "ohe = OneHotEncoder(sparse=False)\n",
    "ohe.fit(x_train['gender'].values.reshape(-1,1))\n",
    "x_train = onehot_encoding(ohe, x_train)"
   ]
  },
  {
   "cell_type": "code",
   "execution_count": 119,
   "id": "71ecd5ea-78c9-4204-8961-8c262833cc96",
   "metadata": {},
   "outputs": [],
   "source": [
    "from sklearn.model_selection import train_test_split\n",
    "\n",
    "x_train, x_val, y_train, y_val = train_test_split(x_train, y_train, test_size=0.2)"
   ]
  },
  {
   "cell_type": "code",
   "execution_count": 120,
   "id": "8b8b45ad-43a4-43ed-a904-6563c3913237",
   "metadata": {},
   "outputs": [
    {
     "name": "stdout",
     "output_type": "stream",
     "text": [
      "(3044, 106)\n",
      "(761, 106)\n",
      "(3044,)\n",
      "(761,)\n"
     ]
    }
   ],
   "source": [
    "print(x_train.shape)\n",
    "print(x_val.shape)\n",
    "print(y_train.shape)\n",
    "print(y_val.shape)"
   ]
  },
  {
   "cell_type": "markdown",
   "id": "27457f77",
   "metadata": {
    "tags": []
   },
   "source": [
    "# MLPclassifier"
   ]
  },
  {
   "cell_type": "code",
   "execution_count": 121,
   "id": "b7344c28-d734-46a9-824f-7889700e2b52",
   "metadata": {},
   "outputs": [],
   "source": [
    "# mlp = MLPClassifier(random_state=CFG['SEED'],max_iter=1000,early_stopping=True, validation_fraction=0.1)\n",
    "# mlp.fit(x_train, y_train)"
   ]
  },
  {
   "cell_type": "markdown",
   "id": "044a3da5-ab6d-413f-8dd0-a64cb506bda1",
   "metadata": {},
   "source": [
    "## MLP Classifier"
   ]
  },
  {
   "cell_type": "code",
   "execution_count": 122,
   "id": "d646f9d2-a911-4ad7-83f3-1a5b79cb5a2a",
   "metadata": {},
   "outputs": [
    {
     "data": {
      "text/html": [
       "<style>#sk-container-id-7 {color: black;background-color: white;}#sk-container-id-7 pre{padding: 0;}#sk-container-id-7 div.sk-toggleable {background-color: white;}#sk-container-id-7 label.sk-toggleable__label {cursor: pointer;display: block;width: 100%;margin-bottom: 0;padding: 0.3em;box-sizing: border-box;text-align: center;}#sk-container-id-7 label.sk-toggleable__label-arrow:before {content: \"▸\";float: left;margin-right: 0.25em;color: #696969;}#sk-container-id-7 label.sk-toggleable__label-arrow:hover:before {color: black;}#sk-container-id-7 div.sk-estimator:hover label.sk-toggleable__label-arrow:before {color: black;}#sk-container-id-7 div.sk-toggleable__content {max-height: 0;max-width: 0;overflow: hidden;text-align: left;background-color: #f0f8ff;}#sk-container-id-7 div.sk-toggleable__content pre {margin: 0.2em;color: black;border-radius: 0.25em;background-color: #f0f8ff;}#sk-container-id-7 input.sk-toggleable__control:checked~div.sk-toggleable__content {max-height: 200px;max-width: 100%;overflow: auto;}#sk-container-id-7 input.sk-toggleable__control:checked~label.sk-toggleable__label-arrow:before {content: \"▾\";}#sk-container-id-7 div.sk-estimator input.sk-toggleable__control:checked~label.sk-toggleable__label {background-color: #d4ebff;}#sk-container-id-7 div.sk-label input.sk-toggleable__control:checked~label.sk-toggleable__label {background-color: #d4ebff;}#sk-container-id-7 input.sk-hidden--visually {border: 0;clip: rect(1px 1px 1px 1px);clip: rect(1px, 1px, 1px, 1px);height: 1px;margin: -1px;overflow: hidden;padding: 0;position: absolute;width: 1px;}#sk-container-id-7 div.sk-estimator {font-family: monospace;background-color: #f0f8ff;border: 1px dotted black;border-radius: 0.25em;box-sizing: border-box;margin-bottom: 0.5em;}#sk-container-id-7 div.sk-estimator:hover {background-color: #d4ebff;}#sk-container-id-7 div.sk-parallel-item::after {content: \"\";width: 100%;border-bottom: 1px solid gray;flex-grow: 1;}#sk-container-id-7 div.sk-label:hover label.sk-toggleable__label {background-color: #d4ebff;}#sk-container-id-7 div.sk-serial::before {content: \"\";position: absolute;border-left: 1px solid gray;box-sizing: border-box;top: 0;bottom: 0;left: 50%;z-index: 0;}#sk-container-id-7 div.sk-serial {display: flex;flex-direction: column;align-items: center;background-color: white;padding-right: 0.2em;padding-left: 0.2em;position: relative;}#sk-container-id-7 div.sk-item {position: relative;z-index: 1;}#sk-container-id-7 div.sk-parallel {display: flex;align-items: stretch;justify-content: center;background-color: white;position: relative;}#sk-container-id-7 div.sk-item::before, #sk-container-id-7 div.sk-parallel-item::before {content: \"\";position: absolute;border-left: 1px solid gray;box-sizing: border-box;top: 0;bottom: 0;left: 50%;z-index: -1;}#sk-container-id-7 div.sk-parallel-item {display: flex;flex-direction: column;z-index: 1;position: relative;background-color: white;}#sk-container-id-7 div.sk-parallel-item:first-child::after {align-self: flex-end;width: 50%;}#sk-container-id-7 div.sk-parallel-item:last-child::after {align-self: flex-start;width: 50%;}#sk-container-id-7 div.sk-parallel-item:only-child::after {width: 0;}#sk-container-id-7 div.sk-dashed-wrapped {border: 1px dashed gray;margin: 0 0.4em 0.5em 0.4em;box-sizing: border-box;padding-bottom: 0.4em;background-color: white;}#sk-container-id-7 div.sk-label label {font-family: monospace;font-weight: bold;display: inline-block;line-height: 1.2em;}#sk-container-id-7 div.sk-label-container {text-align: center;}#sk-container-id-7 div.sk-container {/* jupyter's `normalize.less` sets `[hidden] { display: none; }` but bootstrap.min.css set `[hidden] { display: none !important; }` so we also need the `!important` here to be able to override the default hidden behavior on the sphinx rendered scikit-learn.org. See: https://github.com/scikit-learn/scikit-learn/issues/21755 */display: inline-block !important;position: relative;}#sk-container-id-7 div.sk-text-repr-fallback {display: none;}</style><div id=\"sk-container-id-7\" class=\"sk-top-container\"><div class=\"sk-text-repr-fallback\"><pre>MLPClassifier(max_iter=1000, random_state=50)</pre><b>In a Jupyter environment, please rerun this cell to show the HTML representation or trust the notebook. <br />On GitHub, the HTML representation is unable to render, please try loading this page with nbviewer.org.</b></div><div class=\"sk-container\" hidden><div class=\"sk-item\"><div class=\"sk-estimator sk-toggleable\"><input class=\"sk-toggleable__control sk-hidden--visually\" id=\"sk-estimator-id-7\" type=\"checkbox\" checked><label for=\"sk-estimator-id-7\" class=\"sk-toggleable__label sk-toggleable__label-arrow\">MLPClassifier</label><div class=\"sk-toggleable__content\"><pre>MLPClassifier(max_iter=1000, random_state=50)</pre></div></div></div></div></div>"
      ],
      "text/plain": [
       "MLPClassifier(max_iter=1000, random_state=50)"
      ]
     },
     "execution_count": 122,
     "metadata": {},
     "output_type": "execute_result"
    }
   ],
   "source": [
    "mlp = MLPClassifier(random_state=CFG['SEED'],max_iter=1000)\n",
    "# # Sklearn에서 제공하는 Multi-layer Perceptron classifier 사용\n",
    "\n",
    "mlp.fit(x_train, y_train) # Model Train"
   ]
  },
  {
   "cell_type": "markdown",
   "id": "6ee76100-7e42-4d6f-9c96-1618d07b7148",
   "metadata": {},
   "source": [
    "## GridSerach CrossValidation"
   ]
  },
  {
   "cell_type": "code",
   "execution_count": 136,
   "id": "7a02eac4-af16-45fc-95a6-2f47f021dd84",
   "metadata": {},
   "outputs": [
    {
     "name": "stdout",
     "output_type": "stream",
     "text": [
      "Fitting 5 folds for each of 432 candidates, totalling 2160 fits\n"
     ]
    }
   ],
   "source": [
    "from sklearn.model_selection import GridSearchCV\n",
    "from sklearn.model_selection import StratifiedKFold\n",
    "\n",
    "parameter_space = {\n",
    "    'hidden_layer_sizes': [(13,10,5),(10,7,3),(30,20,10)],\n",
    "    'activation': ['identity', 'logistic', 'softmax', 'tanh'],\n",
    "    'solver': ['sgd', 'adam','lbfgs'],\n",
    "    'alpha': [0.0001, 0.05],\n",
    "    'learning_rate': ['constant','adaptive'],\n",
    "    'batch_size' : [8,16,32]\n",
    "}\n",
    "\n",
    "cv = StratifiedKFold(n_splits=5, shuffle = True, random_state=42)\n",
    "clf = GridSearchCV(mlp, parameter_space, cv=cv, n_jobs=-1,verbose=2)\n",
    "clf = clf.fit(x_train, y_train)"
   ]
  },
  {
   "cell_type": "code",
   "execution_count": 124,
   "id": "74e435eb-52c6-4ae9-b599-ff0e9668eaf9",
   "metadata": {},
   "outputs": [
    {
     "name": "stdout",
     "output_type": "stream",
     "text": [
      "Best parameters found:\n",
      " {'activation': 'logistic', 'alpha': 0.0001, 'batch_size': 16, 'hidden_layer_sizes': (13, 10, 5), 'learning_rate': 'constant', 'solver': 'sgd'}\n",
      "\n",
      "Best model found:\n",
      " MLPClassifier(activation='logistic', batch_size=16,\n",
      "              hidden_layer_sizes=(13, 10, 5), max_iter=1000, random_state=50,\n",
      "              solver='sgd')\n",
      "\n",
      "Best score found:\n",
      " 0.9211563391236712\n"
     ]
    }
   ],
   "source": [
    "# Best Parameters\n",
    "print('Best parameters found:\\n', clf.best_params_)\n",
    "print('\\nBest model found:\\n', clf.best_estimator_)\n",
    "print('\\nBest score found:\\n', clf.best_score_)"
   ]
  },
  {
   "cell_type": "code",
   "execution_count": 125,
   "id": "5a7d0feb-2877-49e2-b39f-6d46b6b94dca",
   "metadata": {},
   "outputs": [],
   "source": [
    "clf = clf.best_estimator_"
   ]
  },
  {
   "cell_type": "code",
   "execution_count": 126,
   "id": "857be661-365e-47f9-8016-74655f5bad8f",
   "metadata": {},
   "outputs": [
    {
     "name": "stdout",
     "output_type": "stream",
     "text": [
      "Accuracy: 0.91\n"
     ]
    }
   ],
   "source": [
    "from sklearn.metrics import accuracy_score\n",
    "y_pred = clf.predict(x_val)\n",
    "print('Accuracy: {:.2f}'.format(accuracy_score(y_val, y_pred)))"
   ]
  },
  {
   "cell_type": "code",
   "execution_count": 127,
   "id": "e2a72b9b-31d2-4bba-848e-9ac0f1c8e505",
   "metadata": {},
   "outputs": [
    {
     "data": {
      "image/png": "[encoded data removed]",
      "text/plain": [
       "<Figure size 432x288 with 2 Axes>"
      ]
     },
     "metadata": {
      "needs_background": "light"
     },
     "output_type": "display_data"
    }
   ],
   "source": [
    "from sklearn.metrics import plot_confusion_matrix\n",
    "fig = plot_confusion_matrix(clf, x_val, y_val, display_labels=clf.classes_)\n",
    "fig.figure_.suptitle(\"Confusion Matrix for covid19\")\n",
    "plt.show()"
   ]
  },
  {
   "cell_type": "code",
   "execution_count": 128,
   "id": "086839e6-0fd8-4676-9478-c15b82efc278",
   "metadata": {},
   "outputs": [
    {
     "name": "stdout",
     "output_type": "stream",
     "text": [
      "검증 세트에 대한 결과:\n",
      "              precision    recall  f1-score   support\n",
      "\n",
      "           0       0.91      1.00      0.95       695\n",
      "           1       0.00      0.00      0.00        66\n",
      "\n",
      "    accuracy                           0.91       761\n",
      "   macro avg       0.46      0.50      0.48       761\n",
      "weighted avg       0.83      0.91      0.87       761\n",
      "\n"
     ]
    }
   ],
   "source": [
    "from sklearn.metrics import classification_report \n",
    "print('검증 세트에 대한 결과:') \n",
    "print(classification_report(y_val, y_pred))"
   ]
  },
  {
   "cell_type": "code",
   "execution_count": 129,
   "id": "9e636143-a01f-43af-9796-78131aad0f09",
   "metadata": {},
   "outputs": [
    {
     "data": {
      "image/png": "[encoded data removed]",
      "text/plain": [
       "<Figure size 432x288 with 1 Axes>"
      ]
     },
     "metadata": {
      "needs_background": "light"
     },
     "output_type": "display_data"
    }
   ],
   "source": [
    "plt.plot(clf.loss_curve_)\n",
    "plt.title(\"Loss Curve\", fontsize=14)\n",
    "plt.xlabel('Iterations')\n",
    "plt.ylabel('Cost')\n",
    "plt.show()"
   ]
  },
  {
   "cell_type": "markdown",
   "id": "848ec15f-5fc9-480b-9c9b-bcbf68ee34ed",
   "metadata": {},
   "source": [
    "## Inference"
   ]
  },
  {
   "cell_type": "code",
   "execution_count": 130,
   "id": "5cf251c2-6cba-446f-ab6c-45236eec93e4",
   "metadata": {},
   "outputs": [],
   "source": [
    "# 위의 학습데이터를 전처리한 과정과 동일하게 test data에도 적용\n",
    "test_mfcc = pd.read_csv('./test_mfcc50_data.csv')\n",
    "test_std = pd.read_csv('./test_mfcc50_std_data.csv')\n",
    "test_mel = pd.read_csv('./test_melspec_data.csv')\n",
    "test_cens = pd.read_csv('./test_cens_data.csv')\n",
    "\n",
    "# mfcc + std feature merge\n",
    "merge_test = pd.merge(test_mfcc, test_std)\n",
    "\n",
    "test_df = merge_test\n",
    "test_df = test_df.drop(columns=['id'])\n",
    "\n",
    "# Data Leakage에 유의하여 train data로만 학습된 ohe를 사용\n",
    "test_df = onehot_encoding(ohe, test_df)\n",
    "\n",
    "# # Model 추론\n",
    "preds = clf.predict(test_df)"
   ]
  },
  {
   "cell_type": "markdown",
   "id": "a8585466-800b-4125-8289-5dce5070990c",
   "metadata": {},
   "source": [
    "## Submission"
   ]
  },
  {
   "cell_type": "code",
   "execution_count": 131,
   "id": "91e91fa6-ef2c-418f-90f2-e5662abe51b9",
   "metadata": {},
   "outputs": [],
   "source": [
    "submission = pd.read_csv('wav_dataset/sample_submission.csv',encoding = 'utf8')\n",
    "submission['covid19'] = preds\n",
    "submission.to_csv('./submit_0623_mlp', index=False)"
   ]
  },
  {
   "cell_type": "code",
   "execution_count": 132,
   "id": "c5d533f2-6a03-4e39-9fe6-e3252ca6ae84",
   "metadata": {},
   "outputs": [
    {
     "data": {
      "text/html": [
       "<div>\n",
       "<style scoped>\n",
       "    .dataframe tbody tr th:only-of-type {\n",
       "        vertical-align: middle;\n",
       "    }\n",
       "\n",
       "    .dataframe tbody tr th {\n",
       "        vertical-align: top;\n",
       "    }\n",
       "\n",
       "    .dataframe thead th {\n",
       "        text-align: right;\n",
       "    }\n",
       "</style>\n",
       "<table border=\"1\" class=\"dataframe\">\n",
       "  <thead>\n",
       "    <tr style=\"text-align: right;\">\n",
       "      <th></th>\n",
       "      <th>id</th>\n",
       "      <th>covid19</th>\n",
       "    </tr>\n",
       "  </thead>\n",
       "  <tbody>\n",
       "    <tr>\n",
       "      <th>0</th>\n",
       "      <td>3806</td>\n",
       "      <td>0</td>\n",
       "    </tr>\n",
       "    <tr>\n",
       "      <th>1</th>\n",
       "      <td>3807</td>\n",
       "      <td>0</td>\n",
       "    </tr>\n",
       "    <tr>\n",
       "      <th>2</th>\n",
       "      <td>3808</td>\n",
       "      <td>0</td>\n",
       "    </tr>\n",
       "    <tr>\n",
       "      <th>3</th>\n",
       "      <td>3809</td>\n",
       "      <td>0</td>\n",
       "    </tr>\n",
       "    <tr>\n",
       "      <th>4</th>\n",
       "      <td>3810</td>\n",
       "      <td>0</td>\n",
       "    </tr>\n",
       "    <tr>\n",
       "      <th>...</th>\n",
       "      <td>...</td>\n",
       "      <td>...</td>\n",
       "    </tr>\n",
       "    <tr>\n",
       "      <th>5727</th>\n",
       "      <td>9533</td>\n",
       "      <td>0</td>\n",
       "    </tr>\n",
       "    <tr>\n",
       "      <th>5728</th>\n",
       "      <td>9534</td>\n",
       "      <td>0</td>\n",
       "    </tr>\n",
       "    <tr>\n",
       "      <th>5729</th>\n",
       "      <td>9535</td>\n",
       "      <td>0</td>\n",
       "    </tr>\n",
       "    <tr>\n",
       "      <th>5730</th>\n",
       "      <td>9536</td>\n",
       "      <td>0</td>\n",
       "    </tr>\n",
       "    <tr>\n",
       "      <th>5731</th>\n",
       "      <td>9537</td>\n",
       "      <td>0</td>\n",
       "    </tr>\n",
       "  </tbody>\n",
       "</table>\n",
       "<p>5732 rows × 2 columns</p>\n",
       "</div>"
      ],
      "text/plain": [
       "        id  covid19\n",
       "0     3806        0\n",
       "1     3807        0\n",
       "2     3808        0\n",
       "3     3809        0\n",
       "4     3810        0\n",
       "...    ...      ...\n",
       "5727  9533        0\n",
       "5728  9534        0\n",
       "5729  9535        0\n",
       "5730  9536        0\n",
       "5731  9537        0\n",
       "\n",
       "[5732 rows x 2 columns]"
      ]
     },
     "execution_count": 132,
     "metadata": {},
     "output_type": "execute_result"
    }
   ],
   "source": [
    "submission"
   ]
  },
  {
   "cell_type": "code",
   "execution_count": 133,
   "id": "9d8455bb",
   "metadata": {},
   "outputs": [
    {
     "data": {
      "text/plain": [
       "0    5732\n",
       "Name: covid19, dtype: int64"
      ]
     },
     "execution_count": 133,
     "metadata": {},
     "output_type": "execute_result"
    }
   ],
   "source": [
    "submission['covid19'].value_counts()"
   ]
  },
  {
   "cell_type": "code",
   "execution_count": 54,
   "id": "ed4585a1-f826-42b6-bd36-f647774e76c5",
   "metadata": {},
   "outputs": [
    {
     "data": {
      "text/plain": [
       "0    5245\n",
       "1     487\n",
       "Name: covid19, dtype: int64"
      ]
     },
     "execution_count": 54,
     "metadata": {},
     "output_type": "execute_result"
    }
   ],
   "source": [
    "s = pd.read_csv('submit_1.csv')\n",
    "s['covid19'].value_counts()"
   ]
  },
  {
   "cell_type": "code",
   "execution_count": null,
   "id": "f4d5a80f-b92e-4cc3-b230-e50e122a6837",
   "metadata": {},
   "outputs": [],
   "source": []
  }
 ],
 "metadata": {
  "kernelspec": {
   "display_name": "Python 3 (ipykernel)",
   "language": "python",
   "name": "python3"
  },
  "language_info": {
   "codemirror_mode": {
    "name": "ipython",
    "version": 3
   },
   "file_extension": ".py",
   "mimetype": "text/x-python",
   "name": "python",
   "nbconvert_exporter": "python",
   "pygments_lexer": "ipython3",
   "version": "3.8.8"
  }
 },
 "nbformat": 4,
 "nbformat_minor": 5
}
