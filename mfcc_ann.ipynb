{
 "cells": [
  {
   "cell_type": "markdown",
   "id": "7481df02-0170-4d43-b092-69939dad020c",
   "metadata": {},
   "source": [
    "## Import Library"
   ]
  },
  {
   "cell_type": "code",
   "execution_count": 2,
   "id": "b495ad86-2f82-4bde-89cb-f8d157217bf1",
   "metadata": {},
   "outputs": [],
   "source": [
    "import random\n",
    "import pandas as pd\n",
    "import numpy as np\n",
    "import matplotlib.pyplot as plt\n",
    "import seaborn as sns\n",
    "import os\n",
    "import librosa, librosa.display\n",
    "import tensorflow as tf\n",
    "import glob\n",
    "from tensorflow import keras\n",
    "from tensorflow.keras import layers\n",
    "from tqdm.auto import tqdm\n",
    "from sklearn.neural_network import MLPClassifier\n",
    "from sklearn.preprocessing import OneHotEncoder\n",
    "from sklearn.model_selection import train_test_split\n",
    "import warnings\n",
    "warnings.filterwarnings(action='ignore')"
   ]
  },
  {
   "cell_type": "code",
   "execution_count": 27,
   "id": "c928a18e-3b6c-4531-9562-82588893cdff",
   "metadata": {},
   "outputs": [],
   "source": [
    "mfcc = pd.read_csv('./train_mfcc50_data.csv')\n",
    "std = pd.read_csv('./train_mfcc50_std_data.csv')"
   ]
  },
  {
   "cell_type": "code",
   "execution_count": 28,
   "id": "b5eaa5b9",
   "metadata": {},
   "outputs": [
    {
     "data": {
      "text/html": [
       "<div>\n",
       "<style scoped>\n",
       "    .dataframe tbody tr th:only-of-type {\n",
       "        vertical-align: middle;\n",
       "    }\n",
       "\n",
       "    .dataframe tbody tr th {\n",
       "        vertical-align: top;\n",
       "    }\n",
       "\n",
       "    .dataframe thead th {\n",
       "        text-align: right;\n",
       "    }\n",
       "</style>\n",
       "<table border=\"1\" class=\"dataframe\">\n",
       "  <thead>\n",
       "    <tr style=\"text-align: right;\">\n",
       "      <th></th>\n",
       "      <th>id</th>\n",
       "      <th>age</th>\n",
       "      <th>gender</th>\n",
       "      <th>respiratory_condition</th>\n",
       "      <th>fever_or_muscle_pain</th>\n",
       "      <th>covid19</th>\n",
       "      <th>mfcc_1</th>\n",
       "      <th>mfcc_2</th>\n",
       "      <th>mfcc_3</th>\n",
       "      <th>mfcc_4</th>\n",
       "      <th>...</th>\n",
       "      <th>std_41</th>\n",
       "      <th>std_42</th>\n",
       "      <th>std_43</th>\n",
       "      <th>std_44</th>\n",
       "      <th>std_45</th>\n",
       "      <th>std_46</th>\n",
       "      <th>std_47</th>\n",
       "      <th>std_48</th>\n",
       "      <th>std_49</th>\n",
       "      <th>std_50</th>\n",
       "    </tr>\n",
       "  </thead>\n",
       "  <tbody>\n",
       "    <tr>\n",
       "      <th>0</th>\n",
       "      <td>1</td>\n",
       "      <td>24</td>\n",
       "      <td>female</td>\n",
       "      <td>0</td>\n",
       "      <td>1</td>\n",
       "      <td>0</td>\n",
       "      <td>-274.93472</td>\n",
       "      <td>29.345425</td>\n",
       "      <td>-19.152718</td>\n",
       "      <td>-7.836880</td>\n",
       "      <td>...</td>\n",
       "      <td>3.940978</td>\n",
       "      <td>4.168008</td>\n",
       "      <td>3.704519</td>\n",
       "      <td>3.413724</td>\n",
       "      <td>2.929554</td>\n",
       "      <td>3.248392</td>\n",
       "      <td>3.697180</td>\n",
       "      <td>3.536256</td>\n",
       "      <td>3.146748</td>\n",
       "      <td>2.808870</td>\n",
       "    </tr>\n",
       "    <tr>\n",
       "      <th>1</th>\n",
       "      <td>2</td>\n",
       "      <td>51</td>\n",
       "      <td>male</td>\n",
       "      <td>0</td>\n",
       "      <td>0</td>\n",
       "      <td>0</td>\n",
       "      <td>-311.56317</td>\n",
       "      <td>52.478150</td>\n",
       "      <td>-0.098956</td>\n",
       "      <td>-11.070889</td>\n",
       "      <td>...</td>\n",
       "      <td>2.902553</td>\n",
       "      <td>3.375166</td>\n",
       "      <td>2.895491</td>\n",
       "      <td>3.463745</td>\n",
       "      <td>2.674759</td>\n",
       "      <td>3.713707</td>\n",
       "      <td>2.245376</td>\n",
       "      <td>3.168638</td>\n",
       "      <td>2.803887</td>\n",
       "      <td>2.966493</td>\n",
       "    </tr>\n",
       "    <tr>\n",
       "      <th>2</th>\n",
       "      <td>3</td>\n",
       "      <td>22</td>\n",
       "      <td>male</td>\n",
       "      <td>0</td>\n",
       "      <td>0</td>\n",
       "      <td>0</td>\n",
       "      <td>-438.29000</td>\n",
       "      <td>46.588910</td>\n",
       "      <td>-22.689060</td>\n",
       "      <td>-3.607528</td>\n",
       "      <td>...</td>\n",
       "      <td>2.923307</td>\n",
       "      <td>2.826745</td>\n",
       "      <td>2.836245</td>\n",
       "      <td>3.008061</td>\n",
       "      <td>4.059071</td>\n",
       "      <td>2.986710</td>\n",
       "      <td>2.961419</td>\n",
       "      <td>2.294150</td>\n",
       "      <td>2.040008</td>\n",
       "      <td>2.326215</td>\n",
       "    </tr>\n",
       "    <tr>\n",
       "      <th>3</th>\n",
       "      <td>4</td>\n",
       "      <td>29</td>\n",
       "      <td>female</td>\n",
       "      <td>1</td>\n",
       "      <td>0</td>\n",
       "      <td>0</td>\n",
       "      <td>-368.42612</td>\n",
       "      <td>46.939358</td>\n",
       "      <td>-7.443123</td>\n",
       "      <td>-3.694383</td>\n",
       "      <td>...</td>\n",
       "      <td>3.089176</td>\n",
       "      <td>3.700883</td>\n",
       "      <td>2.960053</td>\n",
       "      <td>3.161702</td>\n",
       "      <td>3.135634</td>\n",
       "      <td>3.220121</td>\n",
       "      <td>3.039690</td>\n",
       "      <td>3.141579</td>\n",
       "      <td>2.571923</td>\n",
       "      <td>2.961397</td>\n",
       "    </tr>\n",
       "    <tr>\n",
       "      <th>4</th>\n",
       "      <td>5</td>\n",
       "      <td>23</td>\n",
       "      <td>male</td>\n",
       "      <td>0</td>\n",
       "      <td>0</td>\n",
       "      <td>0</td>\n",
       "      <td>-535.19446</td>\n",
       "      <td>7.165523</td>\n",
       "      <td>-7.422007</td>\n",
       "      <td>2.231186</td>\n",
       "      <td>...</td>\n",
       "      <td>1.806763</td>\n",
       "      <td>2.371473</td>\n",
       "      <td>1.541948</td>\n",
       "      <td>2.607864</td>\n",
       "      <td>1.428324</td>\n",
       "      <td>2.125716</td>\n",
       "      <td>1.746210</td>\n",
       "      <td>1.723021</td>\n",
       "      <td>1.656174</td>\n",
       "      <td>2.108295</td>\n",
       "    </tr>\n",
       "    <tr>\n",
       "      <th>...</th>\n",
       "      <td>...</td>\n",
       "      <td>...</td>\n",
       "      <td>...</td>\n",
       "      <td>...</td>\n",
       "      <td>...</td>\n",
       "      <td>...</td>\n",
       "      <td>...</td>\n",
       "      <td>...</td>\n",
       "      <td>...</td>\n",
       "      <td>...</td>\n",
       "      <td>...</td>\n",
       "      <td>...</td>\n",
       "      <td>...</td>\n",
       "      <td>...</td>\n",
       "      <td>...</td>\n",
       "      <td>...</td>\n",
       "      <td>...</td>\n",
       "      <td>...</td>\n",
       "      <td>...</td>\n",
       "      <td>...</td>\n",
       "      <td>...</td>\n",
       "    </tr>\n",
       "    <tr>\n",
       "      <th>3800</th>\n",
       "      <td>3801</td>\n",
       "      <td>53</td>\n",
       "      <td>male</td>\n",
       "      <td>0</td>\n",
       "      <td>0</td>\n",
       "      <td>0</td>\n",
       "      <td>-328.48767</td>\n",
       "      <td>68.190380</td>\n",
       "      <td>-40.383747</td>\n",
       "      <td>2.297682</td>\n",
       "      <td>...</td>\n",
       "      <td>6.964136</td>\n",
       "      <td>9.271381</td>\n",
       "      <td>9.152610</td>\n",
       "      <td>11.020420</td>\n",
       "      <td>7.013804</td>\n",
       "      <td>7.292320</td>\n",
       "      <td>5.920861</td>\n",
       "      <td>6.238069</td>\n",
       "      <td>4.616245</td>\n",
       "      <td>4.588425</td>\n",
       "    </tr>\n",
       "    <tr>\n",
       "      <th>3801</th>\n",
       "      <td>3802</td>\n",
       "      <td>25</td>\n",
       "      <td>male</td>\n",
       "      <td>0</td>\n",
       "      <td>0</td>\n",
       "      <td>0</td>\n",
       "      <td>-386.25732</td>\n",
       "      <td>73.931350</td>\n",
       "      <td>-12.114974</td>\n",
       "      <td>-0.500644</td>\n",
       "      <td>...</td>\n",
       "      <td>4.896223</td>\n",
       "      <td>4.390753</td>\n",
       "      <td>5.094110</td>\n",
       "      <td>5.288200</td>\n",
       "      <td>6.331296</td>\n",
       "      <td>8.516347</td>\n",
       "      <td>7.311387</td>\n",
       "      <td>5.686339</td>\n",
       "      <td>4.536681</td>\n",
       "      <td>5.272469</td>\n",
       "    </tr>\n",
       "    <tr>\n",
       "      <th>3802</th>\n",
       "      <td>3803</td>\n",
       "      <td>26</td>\n",
       "      <td>female</td>\n",
       "      <td>0</td>\n",
       "      <td>0</td>\n",
       "      <td>0</td>\n",
       "      <td>-347.20593</td>\n",
       "      <td>58.544130</td>\n",
       "      <td>12.969809</td>\n",
       "      <td>27.973340</td>\n",
       "      <td>...</td>\n",
       "      <td>3.594398</td>\n",
       "      <td>2.927548</td>\n",
       "      <td>2.842786</td>\n",
       "      <td>3.129517</td>\n",
       "      <td>3.209869</td>\n",
       "      <td>2.796238</td>\n",
       "      <td>2.546851</td>\n",
       "      <td>3.392260</td>\n",
       "      <td>2.859212</td>\n",
       "      <td>2.692866</td>\n",
       "    </tr>\n",
       "    <tr>\n",
       "      <th>3803</th>\n",
       "      <td>3804</td>\n",
       "      <td>27</td>\n",
       "      <td>female</td>\n",
       "      <td>0</td>\n",
       "      <td>0</td>\n",
       "      <td>0</td>\n",
       "      <td>-179.11195</td>\n",
       "      <td>70.697860</td>\n",
       "      <td>-14.571251</td>\n",
       "      <td>-10.143574</td>\n",
       "      <td>...</td>\n",
       "      <td>4.868105</td>\n",
       "      <td>4.600739</td>\n",
       "      <td>4.650938</td>\n",
       "      <td>3.927352</td>\n",
       "      <td>4.996378</td>\n",
       "      <td>4.030235</td>\n",
       "      <td>4.039797</td>\n",
       "      <td>4.363599</td>\n",
       "      <td>5.360180</td>\n",
       "      <td>4.493088</td>\n",
       "    </tr>\n",
       "    <tr>\n",
       "      <th>3804</th>\n",
       "      <td>3805</td>\n",
       "      <td>49</td>\n",
       "      <td>female</td>\n",
       "      <td>1</td>\n",
       "      <td>1</td>\n",
       "      <td>0</td>\n",
       "      <td>-308.60490</td>\n",
       "      <td>85.642650</td>\n",
       "      <td>11.310870</td>\n",
       "      <td>12.702834</td>\n",
       "      <td>...</td>\n",
       "      <td>5.732705</td>\n",
       "      <td>5.824013</td>\n",
       "      <td>6.939557</td>\n",
       "      <td>6.958249</td>\n",
       "      <td>5.331072</td>\n",
       "      <td>4.659515</td>\n",
       "      <td>4.546933</td>\n",
       "      <td>5.848401</td>\n",
       "      <td>4.047602</td>\n",
       "      <td>4.847332</td>\n",
       "    </tr>\n",
       "  </tbody>\n",
       "</table>\n",
       "<p>3805 rows × 106 columns</p>\n",
       "</div>"
      ],
      "text/plain": [
       "        id  age  gender  respiratory_condition  fever_or_muscle_pain  covid19  \\\n",
       "0        1   24  female                      0                     1        0   \n",
       "1        2   51    male                      0                     0        0   \n",
       "2        3   22    male                      0                     0        0   \n",
       "3        4   29  female                      1                     0        0   \n",
       "4        5   23    male                      0                     0        0   \n",
       "...    ...  ...     ...                    ...                   ...      ...   \n",
       "3800  3801   53    male                      0                     0        0   \n",
       "3801  3802   25    male                      0                     0        0   \n",
       "3802  3803   26  female                      0                     0        0   \n",
       "3803  3804   27  female                      0                     0        0   \n",
       "3804  3805   49  female                      1                     1        0   \n",
       "\n",
       "         mfcc_1     mfcc_2     mfcc_3     mfcc_4  ...    std_41    std_42  \\\n",
       "0    -274.93472  29.345425 -19.152718  -7.836880  ...  3.940978  4.168008   \n",
       "1    -311.56317  52.478150  -0.098956 -11.070889  ...  2.902553  3.375166   \n",
       "2    -438.29000  46.588910 -22.689060  -3.607528  ...  2.923307  2.826745   \n",
       "3    -368.42612  46.939358  -7.443123  -3.694383  ...  3.089176  3.700883   \n",
       "4    -535.19446   7.165523  -7.422007   2.231186  ...  1.806763  2.371473   \n",
       "...         ...        ...        ...        ...  ...       ...       ...   \n",
       "3800 -328.48767  68.190380 -40.383747   2.297682  ...  6.964136  9.271381   \n",
       "3801 -386.25732  73.931350 -12.114974  -0.500644  ...  4.896223  4.390753   \n",
       "3802 -347.20593  58.544130  12.969809  27.973340  ...  3.594398  2.927548   \n",
       "3803 -179.11195  70.697860 -14.571251 -10.143574  ...  4.868105  4.600739   \n",
       "3804 -308.60490  85.642650  11.310870  12.702834  ...  5.732705  5.824013   \n",
       "\n",
       "        std_43     std_44    std_45    std_46    std_47    std_48    std_49  \\\n",
       "0     3.704519   3.413724  2.929554  3.248392  3.697180  3.536256  3.146748   \n",
       "1     2.895491   3.463745  2.674759  3.713707  2.245376  3.168638  2.803887   \n",
       "2     2.836245   3.008061  4.059071  2.986710  2.961419  2.294150  2.040008   \n",
       "3     2.960053   3.161702  3.135634  3.220121  3.039690  3.141579  2.571923   \n",
       "4     1.541948   2.607864  1.428324  2.125716  1.746210  1.723021  1.656174   \n",
       "...        ...        ...       ...       ...       ...       ...       ...   \n",
       "3800  9.152610  11.020420  7.013804  7.292320  5.920861  6.238069  4.616245   \n",
       "3801  5.094110   5.288200  6.331296  8.516347  7.311387  5.686339  4.536681   \n",
       "3802  2.842786   3.129517  3.209869  2.796238  2.546851  3.392260  2.859212   \n",
       "3803  4.650938   3.927352  4.996378  4.030235  4.039797  4.363599  5.360180   \n",
       "3804  6.939557   6.958249  5.331072  4.659515  4.546933  5.848401  4.047602   \n",
       "\n",
       "        std_50  \n",
       "0     2.808870  \n",
       "1     2.966493  \n",
       "2     2.326215  \n",
       "3     2.961397  \n",
       "4     2.108295  \n",
       "...        ...  \n",
       "3800  4.588425  \n",
       "3801  5.272469  \n",
       "3802  2.692866  \n",
       "3803  4.493088  \n",
       "3804  4.847332  \n",
       "\n",
       "[3805 rows x 106 columns]"
      ]
     },
     "execution_count": 28,
     "metadata": {},
     "output_type": "execute_result"
    }
   ],
   "source": [
    "# mfcc + std feature merge\n",
    "merge = pd.merge(mfcc, std)\n",
    "train_df = merge\n",
    "train_df"
   ]
  },
  {
   "cell_type": "code",
   "execution_count": 29,
   "id": "1de311c9-f62f-4ef2-8fa5-d4c75da96781",
   "metadata": {},
   "outputs": [
    {
     "data": {
      "text/plain": [
       "<librosa.display.AdaptiveWaveplot at 0x2602cdfc0a0>"
      ]
     },
     "execution_count": 29,
     "metadata": {},
     "output_type": "execute_result"
    },
    {
     "data": {
      "image/png": "[encoded data removed]",
      "text/plain": [
       "<Figure size 432x288 with 1 Axes>"
      ]
     },
     "metadata": {
      "needs_background": "light"
     },
     "output_type": "display_data"
    }
   ],
   "source": [
    "# 코로나 음성자 기침소리 waveshow 시각화\n",
    "df = mfcc\n",
    "sample_num=1 # 코로나 음성자 데이터 샘플\n",
    "filename=str('0000')+str(df.id[sample_num])+str('.wav') #get the filename\n",
    "\n",
    "y,sr=librosa.load('./wav_dataset/train/'+str(filename))\n",
    "librosa.display.waveshow(y,sr=sr, x_axis='time', color='purple',offset=0.0)"
   ]
  },
  {
   "cell_type": "code",
   "execution_count": 30,
   "id": "cb13f4bf-0d40-4794-bdc6-0bab3ea93d56",
   "metadata": {},
   "outputs": [
    {
     "data": {
      "image/png": "[encoded data removed]",
      "text/plain": [
       "<Figure size 1440x504 with 2 Axes>"
      ]
     },
     "metadata": {
      "needs_background": "light"
     },
     "output_type": "display_data"
    }
   ],
   "source": [
    "# 코로나 음성자 spectrogram 시각화\n",
    "sr = 16000\n",
    "\n",
    "MFCCs = librosa.feature.mfcc(y, sr=sr, n_mfcc=128)\n",
    "fig, ax = plt.subplots(figsize=(20,7))\n",
    "librosa.display.specshow(MFCCs,sr=sr)\n",
    "ax.set_xlabel('Time', fontsize=15)\n",
    "ax.set_ylabel('Frequency', fontsize=15)\n",
    "ax.set_title('MFCC Spectrogram', size=20)\n",
    "plt.colorbar()\n",
    "plt.show()"
   ]
  },
  {
   "cell_type": "code",
   "execution_count": 31,
   "id": "7cc828c1-993b-4128-991a-1633b563ac99",
   "metadata": {},
   "outputs": [
    {
     "data": {
      "text/plain": [
       "<librosa.display.AdaptiveWaveplot at 0x2602ceb5d60>"
      ]
     },
     "execution_count": 31,
     "metadata": {},
     "output_type": "execute_result"
    },
    {
     "data": {
      "image/png": "[encoded data removed]",
      "text/plain": [
       "<Figure size 432x288 with 1 Axes>"
      ]
     },
     "metadata": {
      "needs_background": "light"
     },
     "output_type": "display_data"
    }
   ],
   "source": [
    "# 코로나 양성자 기침소리 waveshow 시각화\n",
    "df = mfcc\n",
    "sample_num=7 # 코로나 양성자 음성 데이터 샘플\n",
    "filename=str('0000')+str(df.id[sample_num])+str('.wav') #get the filename\n",
    "\n",
    "y,sr=librosa.load('./wav_dataset/train/'+str(filename))\n",
    "librosa.display.waveshow(y,sr=sr, x_axis='time', color='purple',offset=0.0)"
   ]
  },
  {
   "cell_type": "code",
   "execution_count": 32,
   "id": "aa9515e6-2873-4ecb-ac15-bf3e9fcba369",
   "metadata": {},
   "outputs": [
    {
     "data": {
      "image/png": "[encoded data removed]",
      "text/plain": [
       "<Figure size 1440x504 with 2 Axes>"
      ]
     },
     "metadata": {
      "needs_background": "light"
     },
     "output_type": "display_data"
    }
   ],
   "source": [
    "# 코로나 양성자 spectrogram 시각화\n",
    "# hop_length = 512 #the default spacing between frames\n",
    "# n_fft = 255 #number of samples\n",
    "sr = 16000\n",
    "\n",
    "MFCCs = librosa.feature.mfcc(y, sr=sr, n_mfcc=128)\n",
    "fig, ax = plt.subplots(figsize=(20,7))\n",
    "librosa.display.specshow(MFCCs)\n",
    "ax.set_xlabel('Time', fontsize=15)\n",
    "ax.set_ylabel('Frequency', fontsize=15)\n",
    "ax.set_title('MFCC Spectrogram', size=20)\n",
    "plt.colorbar()\n",
    "plt.show()"
   ]
  },
  {
   "cell_type": "code",
   "execution_count": 60,
   "id": "0ad1a48d",
   "metadata": {},
   "outputs": [],
   "source": [
    "# 학습데이터를 모델의 input으로 들어갈 x와 label로 사용할 y로 분할\n",
    "x_train = train_df.drop(columns=['id', 'covid19'])\n",
    "y_train = train_df['covid19']"
   ]
  },
  {
   "cell_type": "code",
   "execution_count": 61,
   "id": "3d732d51-897b-43e3-86da-e68e2daa6cbe",
   "metadata": {},
   "outputs": [
    {
     "data": {
      "image/png": "[encoded data removed]",
      "text/plain": [
       "<Figure size 432x288 with 1 Axes>"
      ]
     },
     "metadata": {
      "needs_background": "light"
     },
     "output_type": "display_data"
    }
   ],
   "source": [
    "ax = sns.countplot(x='covid19', data = train_df, hue='gender')\n",
    "plt.title('Number of covid-19 infected person')\n",
    "\n",
    "# countplot에 값 표시\n",
    "for p in ax.patches:\n",
    "    height = p.get_height()\n",
    "    ax.text(p.get_x() + p.get_width() / 2., height + 30, height, ha = 'center', size = 12)\n",
    "ax.set_ylim(0, 3000)\n",
    "plt.show()"
   ]
  },
  {
   "cell_type": "code",
   "execution_count": 62,
   "id": "f416e535-da11-4195-9767-ec23a23801d1",
   "metadata": {},
   "outputs": [],
   "source": [
    "def onehot_encoding(ohe, x):\n",
    "    # 학습데이터로 부터 fit된 one-hot encoder (ohe)를 받아 transform 시켜주는 함수\n",
    "    encoded = ohe.transform(x['gender'].values.reshape(-1,1))\n",
    "    encoded_df = pd.DataFrame(encoded.astype('int'), columns=ohe.categories_[0])\n",
    "    x = pd.concat([x.drop(columns=['gender']), encoded_df], axis=1)\n",
    "    return x\n",
    "\n",
    "# 'gender' column의 경우 추가 전처리가 필요 -> OneHotEncoder 적용\n",
    "ohe = OneHotEncoder(sparse=False)\n",
    "ohe.fit(x_train['gender'].values.reshape(-1,1))\n",
    "x_train = onehot_encoding(ohe, x_train)"
   ]
  },
  {
   "cell_type": "code",
   "execution_count": 63,
   "id": "00ac8a5a-c2c6-4af7-880d-34872c53a28c",
   "metadata": {},
   "outputs": [],
   "source": [
    "# train, validation 데이터 세트 분할\n",
    "from sklearn.model_selection import train_test_split\n",
    "\n",
    "x_train, x_val, y_train, y_val = train_test_split(x_train, y_train, test_size=0.2, random_state=123)"
   ]
  },
  {
   "cell_type": "code",
   "execution_count": 64,
   "id": "aa213f45-1fbf-4eb8-b391-5627ce7d85cd",
   "metadata": {},
   "outputs": [
    {
     "name": "stdout",
     "output_type": "stream",
     "text": [
      "(3044, 106)\n",
      "(761, 106)\n",
      "(3044,)\n",
      "(761,)\n"
     ]
    }
   ],
   "source": [
    "# 데이터 크기 확인\n",
    "print(x_train.shape)\n",
    "print(x_val.shape)\n",
    "print(y_train.shape)\n",
    "print(y_val.shape)"
   ]
  },
  {
   "cell_type": "code",
   "execution_count": 65,
   "id": "0dfced60-6ee8-4aba-a3cc-cfa1ec4df0ab",
   "metadata": {},
   "outputs": [],
   "source": [
    "x_train = np.array(x_train)\n",
    "x_val = np.array(x_val)\n",
    "y_train = np.array(y_train)\n",
    "y_val = np.array(y_val)"
   ]
  },
  {
   "cell_type": "markdown",
   "id": "11b2e156-d74a-4371-94f0-93867262666c",
   "metadata": {},
   "source": [
    "## Modeling Using Keras Dropout"
   ]
  },
  {
   "cell_type": "code",
   "execution_count": 80,
   "id": "14b2f160-271c-4b55-809e-8ec633df31f2",
   "metadata": {
    "scrolled": true
   },
   "outputs": [
    {
     "name": "stdout",
     "output_type": "stream",
     "text": [
      "Model: \"sequential_3\"\n",
      "_________________________________________________________________\n",
      " Layer (type)                Output Shape              Param #   \n",
      "=================================================================\n",
      " dense_24 (Dense)            (None, 256)               27392     \n",
      "                                                                 \n",
      " dropout_18 (Dropout)        (None, 256)               0         \n",
      "                                                                 \n",
      " dense_25 (Dense)            (None, 1024)              263168    \n",
      "                                                                 \n",
      " dropout_19 (Dropout)        (None, 1024)              0         \n",
      "                                                                 \n",
      " dense_26 (Dense)            (None, 2048)              2099200   \n",
      "                                                                 \n",
      " dropout_20 (Dropout)        (None, 2048)              0         \n",
      "                                                                 \n",
      " dense_27 (Dense)            (None, 512)               1049088   \n",
      "                                                                 \n",
      " dropout_21 (Dropout)        (None, 512)               0         \n",
      "                                                                 \n",
      " dense_28 (Dense)            (None, 256)               131328    \n",
      "                                                                 \n",
      " dropout_22 (Dropout)        (None, 256)               0         \n",
      "                                                                 \n",
      " dense_29 (Dense)            (None, 64)                16448     \n",
      "                                                                 \n",
      " dropout_23 (Dropout)        (None, 64)                0         \n",
      "                                                                 \n",
      " dense_30 (Dense)            (None, 16)                1040      \n",
      "                                                                 \n",
      " dense_31 (Dense)            (None, 1)                 17        \n",
      "                                                                 \n",
      "=================================================================\n",
      "Total params: 3,587,681\n",
      "Trainable params: 3,587,681\n",
      "Non-trainable params: 0\n",
      "_________________________________________________________________\n"
     ]
    }
   ],
   "source": [
    "import tensorflow as tf\n",
    "from sklearn.metrics import accuracy_score\n",
    "from keras.models import Sequential\n",
    "from keras.layers import Dense, Dropout, Activation, Conv2D, Flatten, MaxPooling2D\n",
    "from tensorflow.keras.optimizers import SGD, Adam\n",
    "from keras import metrics\n",
    "\n",
    "model = Sequential([\n",
    "    Dense(256, kernel_initializer='normal', activation = \"relu\", input_shape=(106, )), \n",
    "    Dropout(0.5), \n",
    "    Dense(1024, kernel_initializer='normal', activation = \"relu\"),\n",
    "    Dropout(0.5), \n",
    "    Dense(2048, kernel_initializer='normal', activation = \"relu\"),\n",
    "    Dropout(0.5), \n",
    "    Dense(512, kernel_initializer='normal', activation = \"relu\"),\n",
    "    Dropout(0.5), \n",
    "    Dense(256, kernel_initializer='normal', activation = \"relu\"),\n",
    "    Dropout(0.5),\n",
    "    Dense(64, kernel_initializer='normal', activation = \"relu\"),\n",
    "    Dropout(0.5),\n",
    "    Dense(16, kernel_initializer='normal', activation = \"relu\"),\n",
    "    Dense(1, kernel_initializer='normal', activation = \"sigmoid\"), \n",
    "])\n",
    "\n",
    "model.summary()"
   ]
  },
  {
   "cell_type": "code",
   "execution_count": 81,
   "id": "87465b53-4e44-4302-9b9c-965c7617ed2e",
   "metadata": {
    "scrolled": true,
    "tags": []
   },
   "outputs": [],
   "source": [
    "model.compile(loss='binary_crossentropy', \n",
    "              optimizer=Adam(lr=0.001, beta_1=0.9, beta_2=0.999, epsilon=1e-8), \n",
    "              metrics=[metrics.binary_accuracy, metrics.binary_crossentropy])"
   ]
  },
  {
   "cell_type": "code",
   "execution_count": 82,
   "id": "f3f9926c",
   "metadata": {
    "scrolled": true
   },
   "outputs": [
    {
     "name": "stdout",
     "output_type": "stream",
     "text": [
      "Epoch 1/100\n",
      "13/13 [==============================] - 1s 30ms/step - loss: 0.5241 - binary_accuracy: 0.8686 - binary_crossentropy: 0.5241 - val_loss: 0.5502 - val_binary_accuracy: 0.9245 - val_binary_crossentropy: 0.5502\n",
      "Epoch 2/100\n",
      "13/13 [==============================] - 0s 5ms/step - loss: 0.3538 - binary_accuracy: 0.9113 - binary_crossentropy: 0.3538 - val_loss: 0.4147 - val_binary_accuracy: 0.9245 - val_binary_crossentropy: 0.4147\n",
      "Epoch 3/100\n",
      "13/13 [==============================] - 0s 5ms/step - loss: 0.3445 - binary_accuracy: 0.9187 - binary_crossentropy: 0.3445 - val_loss: 0.4553 - val_binary_accuracy: 0.9245 - val_binary_crossentropy: 0.4553\n",
      "Epoch 4/100\n",
      "13/13 [==============================] - 0s 5ms/step - loss: 0.3273 - binary_accuracy: 0.9187 - binary_crossentropy: 0.3273 - val_loss: 0.5035 - val_binary_accuracy: 0.9245 - val_binary_crossentropy: 0.5035\n",
      "Epoch 5/100\n",
      "13/13 [==============================] - 0s 5ms/step - loss: 0.3191 - binary_accuracy: 0.9191 - binary_crossentropy: 0.3191 - val_loss: 0.4634 - val_binary_accuracy: 0.9245 - val_binary_crossentropy: 0.4634\n",
      "Epoch 6/100\n",
      "13/13 [==============================] - 0s 5ms/step - loss: 0.3307 - binary_accuracy: 0.9191 - binary_crossentropy: 0.3307 - val_loss: 0.4571 - val_binary_accuracy: 0.9245 - val_binary_crossentropy: 0.4571\n",
      "Epoch 7/100\n",
      "13/13 [==============================] - 0s 5ms/step - loss: 0.3130 - binary_accuracy: 0.9191 - binary_crossentropy: 0.3130 - val_loss: 0.3872 - val_binary_accuracy: 0.9245 - val_binary_crossentropy: 0.3872\n",
      "Epoch 8/100\n",
      "13/13 [==============================] - 0s 5ms/step - loss: 0.3119 - binary_accuracy: 0.9191 - binary_crossentropy: 0.3119 - val_loss: 0.3342 - val_binary_accuracy: 0.9245 - val_binary_crossentropy: 0.3342\n",
      "Epoch 9/100\n",
      "13/13 [==============================] - 0s 5ms/step - loss: 0.3181 - binary_accuracy: 0.9191 - binary_crossentropy: 0.3181 - val_loss: 0.4019 - val_binary_accuracy: 0.9245 - val_binary_crossentropy: 0.4019\n",
      "Epoch 10/100\n",
      "13/13 [==============================] - 0s 5ms/step - loss: 0.3156 - binary_accuracy: 0.9191 - binary_crossentropy: 0.3156 - val_loss: 0.4048 - val_binary_accuracy: 0.9245 - val_binary_crossentropy: 0.4048\n",
      "Epoch 11/100\n",
      "13/13 [==============================] - 0s 5ms/step - loss: 0.3139 - binary_accuracy: 0.9191 - binary_crossentropy: 0.3139 - val_loss: 0.3619 - val_binary_accuracy: 0.9245 - val_binary_crossentropy: 0.3619\n",
      "Epoch 12/100\n",
      "13/13 [==============================] - 0s 5ms/step - loss: 0.3163 - binary_accuracy: 0.9191 - binary_crossentropy: 0.3163 - val_loss: 0.3719 - val_binary_accuracy: 0.9245 - val_binary_crossentropy: 0.3719\n",
      "Epoch 13/100\n",
      "13/13 [==============================] - 0s 5ms/step - loss: 0.3037 - binary_accuracy: 0.9191 - binary_crossentropy: 0.3037 - val_loss: 0.3636 - val_binary_accuracy: 0.9245 - val_binary_crossentropy: 0.3636\n",
      "Epoch 14/100\n",
      "13/13 [==============================] - 0s 5ms/step - loss: 0.3040 - binary_accuracy: 0.9191 - binary_crossentropy: 0.3040 - val_loss: 0.3772 - val_binary_accuracy: 0.9245 - val_binary_crossentropy: 0.3772\n",
      "Epoch 15/100\n",
      "13/13 [==============================] - 0s 6ms/step - loss: 0.3040 - binary_accuracy: 0.9191 - binary_crossentropy: 0.3040 - val_loss: 0.3746 - val_binary_accuracy: 0.9245 - val_binary_crossentropy: 0.3746\n",
      "Epoch 16/100\n",
      "13/13 [==============================] - 0s 5ms/step - loss: 0.2983 - binary_accuracy: 0.9191 - binary_crossentropy: 0.2983 - val_loss: 0.3423 - val_binary_accuracy: 0.9245 - val_binary_crossentropy: 0.3423\n",
      "Epoch 17/100\n",
      "13/13 [==============================] - 0s 5ms/step - loss: 0.3003 - binary_accuracy: 0.9191 - binary_crossentropy: 0.3003 - val_loss: 0.3828 - val_binary_accuracy: 0.9245 - val_binary_crossentropy: 0.3828\n",
      "Epoch 18/100\n",
      "13/13 [==============================] - 0s 5ms/step - loss: 0.3025 - binary_accuracy: 0.9191 - binary_crossentropy: 0.3025 - val_loss: 0.3955 - val_binary_accuracy: 0.9245 - val_binary_crossentropy: 0.3955\n",
      "Epoch 19/100\n",
      "13/13 [==============================] - 0s 5ms/step - loss: 0.2951 - binary_accuracy: 0.9191 - binary_crossentropy: 0.2951 - val_loss: 0.3375 - val_binary_accuracy: 0.9245 - val_binary_crossentropy: 0.3375\n",
      "Epoch 20/100\n",
      "13/13 [==============================] - 0s 5ms/step - loss: 0.2929 - binary_accuracy: 0.9191 - binary_crossentropy: 0.2929 - val_loss: 0.3482 - val_binary_accuracy: 0.9245 - val_binary_crossentropy: 0.3482\n",
      "Epoch 21/100\n",
      "13/13 [==============================] - 0s 5ms/step - loss: 0.3024 - binary_accuracy: 0.9191 - binary_crossentropy: 0.3024 - val_loss: 0.3959 - val_binary_accuracy: 0.9245 - val_binary_crossentropy: 0.3959\n",
      "Epoch 22/100\n",
      "13/13 [==============================] - 0s 6ms/step - loss: 0.2965 - binary_accuracy: 0.9191 - binary_crossentropy: 0.2965 - val_loss: 0.3666 - val_binary_accuracy: 0.9245 - val_binary_crossentropy: 0.3666\n",
      "Epoch 23/100\n",
      "13/13 [==============================] - 0s 6ms/step - loss: 0.2979 - binary_accuracy: 0.9191 - binary_crossentropy: 0.2979 - val_loss: 0.3651 - val_binary_accuracy: 0.9245 - val_binary_crossentropy: 0.3651\n",
      "Epoch 24/100\n",
      "13/13 [==============================] - 0s 5ms/step - loss: 0.2849 - binary_accuracy: 0.9191 - binary_crossentropy: 0.2849 - val_loss: 0.3440 - val_binary_accuracy: 0.9245 - val_binary_crossentropy: 0.3440\n",
      "Epoch 25/100\n",
      "13/13 [==============================] - 0s 5ms/step - loss: 0.2969 - binary_accuracy: 0.9191 - binary_crossentropy: 0.2969 - val_loss: 0.3291 - val_binary_accuracy: 0.9245 - val_binary_crossentropy: 0.3291\n",
      "Epoch 26/100\n",
      "13/13 [==============================] - 0s 5ms/step - loss: 0.2876 - binary_accuracy: 0.9191 - binary_crossentropy: 0.2876 - val_loss: 0.3265 - val_binary_accuracy: 0.9245 - val_binary_crossentropy: 0.3265\n",
      "Epoch 27/100\n",
      "13/13 [==============================] - 0s 5ms/step - loss: 0.2901 - binary_accuracy: 0.9191 - binary_crossentropy: 0.2901 - val_loss: 0.3666 - val_binary_accuracy: 0.9245 - val_binary_crossentropy: 0.3666\n",
      "Epoch 28/100\n",
      "13/13 [==============================] - 0s 5ms/step - loss: 0.2873 - binary_accuracy: 0.9191 - binary_crossentropy: 0.2873 - val_loss: 0.3061 - val_binary_accuracy: 0.9245 - val_binary_crossentropy: 0.3061\n",
      "Epoch 29/100\n",
      "13/13 [==============================] - 0s 5ms/step - loss: 0.2921 - binary_accuracy: 0.9191 - binary_crossentropy: 0.2921 - val_loss: 0.2990 - val_binary_accuracy: 0.9245 - val_binary_crossentropy: 0.2990\n",
      "Epoch 30/100\n",
      "13/13 [==============================] - 0s 6ms/step - loss: 0.2922 - binary_accuracy: 0.9191 - binary_crossentropy: 0.2922 - val_loss: 0.3762 - val_binary_accuracy: 0.9245 - val_binary_crossentropy: 0.3762\n",
      "Epoch 31/100\n",
      "13/13 [==============================] - 0s 5ms/step - loss: 0.2934 - binary_accuracy: 0.9191 - binary_crossentropy: 0.2934 - val_loss: 0.4037 - val_binary_accuracy: 0.9245 - val_binary_crossentropy: 0.4037\n",
      "Epoch 32/100\n",
      "13/13 [==============================] - 0s 6ms/step - loss: 0.2921 - binary_accuracy: 0.9191 - binary_crossentropy: 0.2921 - val_loss: 0.3972 - val_binary_accuracy: 0.9245 - val_binary_crossentropy: 0.3972\n",
      "Epoch 33/100\n",
      "13/13 [==============================] - 0s 6ms/step - loss: 0.2833 - binary_accuracy: 0.9191 - binary_crossentropy: 0.2833 - val_loss: 0.3506 - val_binary_accuracy: 0.9245 - val_binary_crossentropy: 0.3506\n",
      "Epoch 34/100\n",
      "13/13 [==============================] - 0s 5ms/step - loss: 0.2855 - binary_accuracy: 0.9191 - binary_crossentropy: 0.2855 - val_loss: 0.3510 - val_binary_accuracy: 0.9245 - val_binary_crossentropy: 0.3510\n",
      "Epoch 35/100\n",
      "13/13 [==============================] - 0s 6ms/step - loss: 0.2861 - binary_accuracy: 0.9191 - binary_crossentropy: 0.2861 - val_loss: 0.3451 - val_binary_accuracy: 0.9245 - val_binary_crossentropy: 0.3451\n",
      "Epoch 36/100\n",
      "13/13 [==============================] - 0s 5ms/step - loss: 0.2892 - binary_accuracy: 0.9191 - binary_crossentropy: 0.2892 - val_loss: 0.3571 - val_binary_accuracy: 0.9245 - val_binary_crossentropy: 0.3571\n",
      "Epoch 37/100\n",
      "13/13 [==============================] - 0s 5ms/step - loss: 0.2827 - binary_accuracy: 0.9191 - binary_crossentropy: 0.2827 - val_loss: 0.3649 - val_binary_accuracy: 0.9245 - val_binary_crossentropy: 0.3649\n",
      "Epoch 38/100\n"
     ]
    },
    {
     "name": "stdout",
     "output_type": "stream",
     "text": [
      "13/13 [==============================] - 0s 5ms/step - loss: 0.2917 - binary_accuracy: 0.9191 - binary_crossentropy: 0.2917 - val_loss: 0.3260 - val_binary_accuracy: 0.9245 - val_binary_crossentropy: 0.3260\n",
      "Epoch 39/100\n",
      "13/13 [==============================] - 0s 6ms/step - loss: 0.2907 - binary_accuracy: 0.9191 - binary_crossentropy: 0.2907 - val_loss: 0.3228 - val_binary_accuracy: 0.9245 - val_binary_crossentropy: 0.3228\n",
      "Epoch 40/100\n",
      "13/13 [==============================] - 0s 5ms/step - loss: 0.2971 - binary_accuracy: 0.9191 - binary_crossentropy: 0.2971 - val_loss: 0.2829 - val_binary_accuracy: 0.9245 - val_binary_crossentropy: 0.2829\n",
      "Epoch 41/100\n",
      "13/13 [==============================] - 0s 5ms/step - loss: 0.2873 - binary_accuracy: 0.9191 - binary_crossentropy: 0.2873 - val_loss: 0.3275 - val_binary_accuracy: 0.9245 - val_binary_crossentropy: 0.3275\n",
      "Epoch 42/100\n",
      "13/13 [==============================] - 0s 5ms/step - loss: 0.2811 - binary_accuracy: 0.9191 - binary_crossentropy: 0.2811 - val_loss: 0.3015 - val_binary_accuracy: 0.9245 - val_binary_crossentropy: 0.3015\n",
      "Epoch 43/100\n",
      "13/13 [==============================] - 0s 6ms/step - loss: 0.2771 - binary_accuracy: 0.9191 - binary_crossentropy: 0.2771 - val_loss: 0.3451 - val_binary_accuracy: 0.9245 - val_binary_crossentropy: 0.3451\n",
      "Epoch 44/100\n",
      "13/13 [==============================] - 0s 6ms/step - loss: 0.2804 - binary_accuracy: 0.9191 - binary_crossentropy: 0.2804 - val_loss: 0.3082 - val_binary_accuracy: 0.9245 - val_binary_crossentropy: 0.3082\n",
      "Epoch 45/100\n",
      "13/13 [==============================] - 0s 5ms/step - loss: 0.2847 - binary_accuracy: 0.9191 - binary_crossentropy: 0.2847 - val_loss: 0.3210 - val_binary_accuracy: 0.9245 - val_binary_crossentropy: 0.3210\n",
      "Epoch 46/100\n",
      "13/13 [==============================] - 0s 5ms/step - loss: 0.2748 - binary_accuracy: 0.9191 - binary_crossentropy: 0.2748 - val_loss: 0.2988 - val_binary_accuracy: 0.9245 - val_binary_crossentropy: 0.2988\n",
      "Epoch 47/100\n",
      "13/13 [==============================] - 0s 5ms/step - loss: 0.2743 - binary_accuracy: 0.9191 - binary_crossentropy: 0.2743 - val_loss: 0.3391 - val_binary_accuracy: 0.9245 - val_binary_crossentropy: 0.3391\n",
      "Epoch 48/100\n",
      "13/13 [==============================] - 0s 5ms/step - loss: 0.2861 - binary_accuracy: 0.9191 - binary_crossentropy: 0.2861 - val_loss: 0.3413 - val_binary_accuracy: 0.9245 - val_binary_crossentropy: 0.3413\n",
      "Epoch 49/100\n",
      "13/13 [==============================] - 0s 5ms/step - loss: 0.2755 - binary_accuracy: 0.9191 - binary_crossentropy: 0.2755 - val_loss: 0.3199 - val_binary_accuracy: 0.9245 - val_binary_crossentropy: 0.3199\n",
      "Epoch 50/100\n",
      "13/13 [==============================] - 0s 5ms/step - loss: 0.2772 - binary_accuracy: 0.9191 - binary_crossentropy: 0.2772 - val_loss: 0.3442 - val_binary_accuracy: 0.9245 - val_binary_crossentropy: 0.3442\n",
      "Epoch 51/100\n",
      "13/13 [==============================] - 0s 5ms/step - loss: 0.2764 - binary_accuracy: 0.9191 - binary_crossentropy: 0.2764 - val_loss: 0.3442 - val_binary_accuracy: 0.9245 - val_binary_crossentropy: 0.3442\n",
      "Epoch 52/100\n",
      "13/13 [==============================] - 0s 6ms/step - loss: 0.2733 - binary_accuracy: 0.9191 - binary_crossentropy: 0.2733 - val_loss: 0.3097 - val_binary_accuracy: 0.9245 - val_binary_crossentropy: 0.3097\n",
      "Epoch 53/100\n",
      "13/13 [==============================] - 0s 5ms/step - loss: 0.2735 - binary_accuracy: 0.9191 - binary_crossentropy: 0.2735 - val_loss: 0.3214 - val_binary_accuracy: 0.9245 - val_binary_crossentropy: 0.3214\n",
      "Epoch 54/100\n",
      "13/13 [==============================] - 0s 5ms/step - loss: 0.2640 - binary_accuracy: 0.9191 - binary_crossentropy: 0.2640 - val_loss: 0.3263 - val_binary_accuracy: 0.9245 - val_binary_crossentropy: 0.3263\n",
      "Epoch 55/100\n",
      "13/13 [==============================] - 0s 6ms/step - loss: 0.2711 - binary_accuracy: 0.9191 - binary_crossentropy: 0.2711 - val_loss: 0.3361 - val_binary_accuracy: 0.9245 - val_binary_crossentropy: 0.3361\n",
      "Epoch 56/100\n",
      "13/13 [==============================] - 0s 5ms/step - loss: 0.2658 - binary_accuracy: 0.9191 - binary_crossentropy: 0.2658 - val_loss: 0.3138 - val_binary_accuracy: 0.9245 - val_binary_crossentropy: 0.3138\n",
      "Epoch 57/100\n",
      "13/13 [==============================] - 0s 5ms/step - loss: 0.2820 - binary_accuracy: 0.9191 - binary_crossentropy: 0.2820 - val_loss: 0.3156 - val_binary_accuracy: 0.9245 - val_binary_crossentropy: 0.3156\n",
      "Epoch 58/100\n",
      "13/13 [==============================] - 0s 5ms/step - loss: 0.2785 - binary_accuracy: 0.9191 - binary_crossentropy: 0.2785 - val_loss: 0.3080 - val_binary_accuracy: 0.9245 - val_binary_crossentropy: 0.3080\n",
      "Epoch 59/100\n",
      "13/13 [==============================] - 0s 5ms/step - loss: 0.2623 - binary_accuracy: 0.9191 - binary_crossentropy: 0.2623 - val_loss: 0.3173 - val_binary_accuracy: 0.9245 - val_binary_crossentropy: 0.3173\n",
      "Epoch 60/100\n",
      "13/13 [==============================] - 0s 6ms/step - loss: 0.2726 - binary_accuracy: 0.9191 - binary_crossentropy: 0.2726 - val_loss: 0.2849 - val_binary_accuracy: 0.9245 - val_binary_crossentropy: 0.2849\n",
      "Epoch 61/100\n",
      "13/13 [==============================] - 0s 6ms/step - loss: 0.2725 - binary_accuracy: 0.9191 - binary_crossentropy: 0.2725 - val_loss: 0.2821 - val_binary_accuracy: 0.9245 - val_binary_crossentropy: 0.2821\n",
      "Epoch 62/100\n",
      "13/13 [==============================] - 0s 5ms/step - loss: 0.2635 - binary_accuracy: 0.9191 - binary_crossentropy: 0.2635 - val_loss: 0.3132 - val_binary_accuracy: 0.9245 - val_binary_crossentropy: 0.3132\n",
      "Epoch 63/100\n",
      "13/13 [==============================] - 0s 5ms/step - loss: 0.2688 - binary_accuracy: 0.9191 - binary_crossentropy: 0.2688 - val_loss: 0.3017 - val_binary_accuracy: 0.9245 - val_binary_crossentropy: 0.3017\n",
      "Epoch 64/100\n",
      "13/13 [==============================] - 0s 5ms/step - loss: 0.2597 - binary_accuracy: 0.9191 - binary_crossentropy: 0.2597 - val_loss: 0.3244 - val_binary_accuracy: 0.9245 - val_binary_crossentropy: 0.3244\n",
      "Epoch 65/100\n",
      "13/13 [==============================] - 0s 5ms/step - loss: 0.2704 - binary_accuracy: 0.9191 - binary_crossentropy: 0.2704 - val_loss: 0.3228 - val_binary_accuracy: 0.9245 - val_binary_crossentropy: 0.3228\n",
      "Epoch 66/100\n",
      "13/13 [==============================] - 0s 6ms/step - loss: 0.2695 - binary_accuracy: 0.9191 - binary_crossentropy: 0.2695 - val_loss: 0.3390 - val_binary_accuracy: 0.9245 - val_binary_crossentropy: 0.3390\n",
      "Epoch 67/100\n",
      "13/13 [==============================] - 0s 5ms/step - loss: 0.2642 - binary_accuracy: 0.9191 - binary_crossentropy: 0.2642 - val_loss: 0.3159 - val_binary_accuracy: 0.9245 - val_binary_crossentropy: 0.3159\n",
      "Epoch 68/100\n",
      "13/13 [==============================] - 0s 6ms/step - loss: 0.2641 - binary_accuracy: 0.9191 - binary_crossentropy: 0.2641 - val_loss: 0.3455 - val_binary_accuracy: 0.9245 - val_binary_crossentropy: 0.3455\n",
      "Epoch 69/100\n",
      "13/13 [==============================] - 0s 5ms/step - loss: 0.2630 - binary_accuracy: 0.9191 - binary_crossentropy: 0.2630 - val_loss: 0.2784 - val_binary_accuracy: 0.9245 - val_binary_crossentropy: 0.2784\n",
      "Epoch 70/100\n",
      "13/13 [==============================] - 0s 5ms/step - loss: 0.2794 - binary_accuracy: 0.9191 - binary_crossentropy: 0.2794 - val_loss: 0.2833 - val_binary_accuracy: 0.9245 - val_binary_crossentropy: 0.2833\n",
      "Epoch 71/100\n",
      "13/13 [==============================] - 0s 5ms/step - loss: 0.2713 - binary_accuracy: 0.9191 - binary_crossentropy: 0.2713 - val_loss: 0.3335 - val_binary_accuracy: 0.9245 - val_binary_crossentropy: 0.3335\n",
      "Epoch 72/100\n",
      "13/13 [==============================] - 0s 5ms/step - loss: 0.2586 - binary_accuracy: 0.9191 - binary_crossentropy: 0.2586 - val_loss: 0.3345 - val_binary_accuracy: 0.9245 - val_binary_crossentropy: 0.3345\n",
      "Epoch 73/100\n",
      "13/13 [==============================] - 0s 5ms/step - loss: 0.2563 - binary_accuracy: 0.9191 - binary_crossentropy: 0.2563 - val_loss: 0.3202 - val_binary_accuracy: 0.9245 - val_binary_crossentropy: 0.3202\n",
      "Epoch 74/100\n",
      "13/13 [==============================] - 0s 5ms/step - loss: 0.2564 - binary_accuracy: 0.9191 - binary_crossentropy: 0.2564 - val_loss: 0.3242 - val_binary_accuracy: 0.9245 - val_binary_crossentropy: 0.3242\n",
      "Epoch 75/100\n"
     ]
    },
    {
     "name": "stdout",
     "output_type": "stream",
     "text": [
      "13/13 [==============================] - 0s 5ms/step - loss: 0.2607 - binary_accuracy: 0.9191 - binary_crossentropy: 0.2607 - val_loss: 0.3415 - val_binary_accuracy: 0.9245 - val_binary_crossentropy: 0.3415\n",
      "Epoch 76/100\n",
      "13/13 [==============================] - 0s 5ms/step - loss: 0.2600 - binary_accuracy: 0.9191 - binary_crossentropy: 0.2600 - val_loss: 0.3386 - val_binary_accuracy: 0.9245 - val_binary_crossentropy: 0.3386\n",
      "Epoch 77/100\n",
      "13/13 [==============================] - 0s 5ms/step - loss: 0.2663 - binary_accuracy: 0.9191 - binary_crossentropy: 0.2663 - val_loss: 0.3112 - val_binary_accuracy: 0.9245 - val_binary_crossentropy: 0.3112\n",
      "Epoch 78/100\n",
      "13/13 [==============================] - 0s 6ms/step - loss: 0.2616 - binary_accuracy: 0.9191 - binary_crossentropy: 0.2616 - val_loss: 0.3045 - val_binary_accuracy: 0.9245 - val_binary_crossentropy: 0.3045\n",
      "Epoch 79/100\n",
      "13/13 [==============================] - 0s 5ms/step - loss: 0.2617 - binary_accuracy: 0.9191 - binary_crossentropy: 0.2617 - val_loss: 0.3052 - val_binary_accuracy: 0.9245 - val_binary_crossentropy: 0.3052\n",
      "Epoch 80/100\n",
      "13/13 [==============================] - 0s 5ms/step - loss: 0.2601 - binary_accuracy: 0.9191 - binary_crossentropy: 0.2601 - val_loss: 0.2857 - val_binary_accuracy: 0.9245 - val_binary_crossentropy: 0.2857\n",
      "Epoch 81/100\n",
      "13/13 [==============================] - 0s 5ms/step - loss: 0.2613 - binary_accuracy: 0.9191 - binary_crossentropy: 0.2613 - val_loss: 0.3056 - val_binary_accuracy: 0.9245 - val_binary_crossentropy: 0.3056\n",
      "Epoch 82/100\n",
      "13/13 [==============================] - 0s 5ms/step - loss: 0.2577 - binary_accuracy: 0.9191 - binary_crossentropy: 0.2577 - val_loss: 0.3027 - val_binary_accuracy: 0.9245 - val_binary_crossentropy: 0.3027\n",
      "Epoch 83/100\n",
      "13/13 [==============================] - 0s 5ms/step - loss: 0.2594 - binary_accuracy: 0.9191 - binary_crossentropy: 0.2594 - val_loss: 0.3221 - val_binary_accuracy: 0.9245 - val_binary_crossentropy: 0.3221\n",
      "Epoch 84/100\n",
      "13/13 [==============================] - 0s 5ms/step - loss: 0.2551 - binary_accuracy: 0.9191 - binary_crossentropy: 0.2551 - val_loss: 0.3021 - val_binary_accuracy: 0.9245 - val_binary_crossentropy: 0.3021\n",
      "Epoch 85/100\n",
      "13/13 [==============================] - 0s 5ms/step - loss: 0.2477 - binary_accuracy: 0.9191 - binary_crossentropy: 0.2477 - val_loss: 0.2835 - val_binary_accuracy: 0.9245 - val_binary_crossentropy: 0.2835\n",
      "Epoch 86/100\n",
      "13/13 [==============================] - 0s 6ms/step - loss: 0.2549 - binary_accuracy: 0.9191 - binary_crossentropy: 0.2549 - val_loss: 0.2912 - val_binary_accuracy: 0.9245 - val_binary_crossentropy: 0.2912\n",
      "Epoch 87/100\n",
      "13/13 [==============================] - 0s 5ms/step - loss: 0.2593 - binary_accuracy: 0.9191 - binary_crossentropy: 0.2593 - val_loss: 0.2925 - val_binary_accuracy: 0.9245 - val_binary_crossentropy: 0.2925\n",
      "Epoch 88/100\n",
      "13/13 [==============================] - 0s 5ms/step - loss: 0.2514 - binary_accuracy: 0.9191 - binary_crossentropy: 0.2514 - val_loss: 0.3104 - val_binary_accuracy: 0.9245 - val_binary_crossentropy: 0.3104\n",
      "Epoch 89/100\n",
      "13/13 [==============================] - 0s 6ms/step - loss: 0.2464 - binary_accuracy: 0.9191 - binary_crossentropy: 0.2464 - val_loss: 0.3288 - val_binary_accuracy: 0.9245 - val_binary_crossentropy: 0.3288\n",
      "Epoch 90/100\n",
      "13/13 [==============================] - 0s 5ms/step - loss: 0.2527 - binary_accuracy: 0.9191 - binary_crossentropy: 0.2527 - val_loss: 0.2900 - val_binary_accuracy: 0.9245 - val_binary_crossentropy: 0.2900\n",
      "Epoch 91/100\n",
      "13/13 [==============================] - 0s 6ms/step - loss: 0.2416 - binary_accuracy: 0.9191 - binary_crossentropy: 0.2416 - val_loss: 0.3139 - val_binary_accuracy: 0.9245 - val_binary_crossentropy: 0.3139\n",
      "Epoch 92/100\n",
      "13/13 [==============================] - 0s 5ms/step - loss: 0.2353 - binary_accuracy: 0.9191 - binary_crossentropy: 0.2353 - val_loss: 0.3553 - val_binary_accuracy: 0.9245 - val_binary_crossentropy: 0.3553\n",
      "Epoch 93/100\n",
      "13/13 [==============================] - 0s 5ms/step - loss: 0.2699 - binary_accuracy: 0.9191 - binary_crossentropy: 0.2699 - val_loss: 0.3310 - val_binary_accuracy: 0.9245 - val_binary_crossentropy: 0.3310\n",
      "Epoch 94/100\n",
      "13/13 [==============================] - 0s 5ms/step - loss: 0.2473 - binary_accuracy: 0.9191 - binary_crossentropy: 0.2473 - val_loss: 0.2911 - val_binary_accuracy: 0.9245 - val_binary_crossentropy: 0.2911\n",
      "Epoch 95/100\n",
      "13/13 [==============================] - 0s 5ms/step - loss: 0.2435 - binary_accuracy: 0.9191 - binary_crossentropy: 0.2435 - val_loss: 0.3123 - val_binary_accuracy: 0.9245 - val_binary_crossentropy: 0.3123\n",
      "Epoch 96/100\n",
      "13/13 [==============================] - 0s 6ms/step - loss: 0.2473 - binary_accuracy: 0.9191 - binary_crossentropy: 0.2473 - val_loss: 0.2959 - val_binary_accuracy: 0.9245 - val_binary_crossentropy: 0.2959\n",
      "Epoch 97/100\n",
      "13/13 [==============================] - 0s 5ms/step - loss: 0.2460 - binary_accuracy: 0.9191 - binary_crossentropy: 0.2460 - val_loss: 0.2878 - val_binary_accuracy: 0.9245 - val_binary_crossentropy: 0.2878\n",
      "Epoch 98/100\n",
      "13/13 [==============================] - 0s 5ms/step - loss: 0.2534 - binary_accuracy: 0.9191 - binary_crossentropy: 0.2534 - val_loss: 0.2882 - val_binary_accuracy: 0.9245 - val_binary_crossentropy: 0.2882\n",
      "Epoch 99/100\n",
      "13/13 [==============================] - 0s 5ms/step - loss: 0.2485 - binary_accuracy: 0.9191 - binary_crossentropy: 0.2485 - val_loss: 0.3006 - val_binary_accuracy: 0.9245 - val_binary_crossentropy: 0.3006\n",
      "Epoch 100/100\n",
      "13/13 [==============================] - 0s 5ms/step - loss: 0.2451 - binary_accuracy: 0.9191 - binary_crossentropy: 0.2451 - val_loss: 0.3160 - val_binary_accuracy: 0.9245 - val_binary_crossentropy: 0.3160\n"
     ]
    }
   ],
   "source": [
    "history = model.fit(x_train, y_train, epochs=100, \n",
    "                          batch_size=200, verbose=1, validation_split=0.2)"
   ]
  },
  {
   "cell_type": "code",
   "execution_count": 83,
   "id": "017199a8-ce1a-40db-ad87-c3dd24f2da08",
   "metadata": {},
   "outputs": [
    {
     "name": "stdout",
     "output_type": "stream",
     "text": [
      "0.9172142148017883\n"
     ]
    }
   ],
   "source": [
    "val_accuracy=model.evaluate(x_val,y_val,verbose=0)\n",
    "print(val_accuracy[1])"
   ]
  },
  {
   "cell_type": "code",
   "execution_count": 84,
   "id": "a020fc98-d7cc-4b1c-9742-e54b0bf1f53b",
   "metadata": {},
   "outputs": [
    {
     "data": {
      "image/png": "[encoded data removed]",
      "text/plain": [
       "<Figure size 432x288 with 1 Axes>"
      ]
     },
     "metadata": {
      "needs_background": "light"
     },
     "output_type": "display_data"
    }
   ],
   "source": [
    "import matplotlib.pyplot as plt\n",
    "\n",
    "history_dict = history.history #history 속성을 갖고 있음\n",
    "loss = history_dict['loss'] #혹은 'acc'\n",
    "val_loss = history_dict['val_loss'] #혹은 'val_acc'\n",
    "\n",
    "epochs = range(1, len(loss) + 1)\n",
    "\n",
    "plt.plot(epochs, loss, label = 'Training Loss')\n",
    "plt.plot(epochs, val_loss, label = 'Validation loss')\n",
    "plt.legend()\n",
    "\n",
    "plt.show()"
   ]
  },
  {
   "cell_type": "code",
   "execution_count": 88,
   "id": "5d813303-b270-478f-a879-6b675c455183",
   "metadata": {},
   "outputs": [
    {
     "data": {
      "image/png": "[encoded data removed]",
      "text/plain": [
       "<Figure size 432x288 with 1 Axes>"
      ]
     },
     "metadata": {
      "needs_background": "light"
     },
     "output_type": "display_data"
    }
   ],
   "source": [
    "history_dict = history.history #history 속성을 갖고 있음\n",
    "acc = history_dict['binary_accuracy']\n",
    "val_acc = history_dict['binary_crossentropy'] \n",
    "\n",
    "epochs = range(1, len(loss) + 1)\n",
    "\n",
    "plt.plot(epochs, acc, label = 'Training acc')\n",
    "plt.plot(epochs, val_acc, label = 'Validation acc')\n",
    "plt.legend()\n",
    "\n",
    "plt.show()"
   ]
  },
  {
   "cell_type": "code",
   "execution_count": 89,
   "id": "8fc74afb-0071-460e-898e-9134fb442502",
   "metadata": {},
   "outputs": [],
   "source": [
    "test_mfcc = pd.read_csv('./test_mfcc50_data.csv')\n",
    "test_std = pd.read_csv('./test_mfcc50_std_data.csv')"
   ]
  },
  {
   "cell_type": "code",
   "execution_count": 90,
   "id": "a3a4da55-a1e9-47e8-a286-fc61d11ed839",
   "metadata": {},
   "outputs": [],
   "source": [
    "# mfcc + std feature merge\n",
    "merge_test = pd.merge(test_mfcc, test_std)\n",
    "\n",
    "test_df = merge_test\n",
    "test_df = test_df.drop(columns=['id'])\n",
    "\n",
    "# Data Leakage에 유의하여 train data로만 학습된 ohe를 사용\n",
    "test_df = onehot_encoding(ohe, test_df)\n",
    "test_df = np.array(test_df)"
   ]
  },
  {
   "cell_type": "code",
   "execution_count": 91,
   "id": "22a619b5-4cce-4dba-8b39-e36e5590edd2",
   "metadata": {},
   "outputs": [
    {
     "data": {
      "text/plain": [
       "array([[48.,  1.,  0., ...,  1.,  0.,  0.],\n",
       "       [24.,  0.,  0., ...,  1.,  0.,  0.],\n",
       "       [29.,  0.,  0., ...,  0.,  1.,  0.],\n",
       "       ...,\n",
       "       [44.,  0.,  0., ...,  1.,  0.,  0.],\n",
       "       [25.,  0.,  0., ...,  1.,  0.,  0.],\n",
       "       [17.,  1.,  1., ...,  1.,  0.,  0.]])"
      ]
     },
     "execution_count": 91,
     "metadata": {},
     "output_type": "execute_result"
    }
   ],
   "source": [
    "test_df"
   ]
  },
  {
   "cell_type": "code",
   "execution_count": 163,
   "id": "5eca9ec8-2c75-46cd-a7e1-f4be25cf0bac",
   "metadata": {},
   "outputs": [
    {
     "data": {
      "text/plain": [
       "array([[0.15988457],\n",
       "       [0.25229165],\n",
       "       [0.07704685],\n",
       "       ...,\n",
       "       [0.23626791],\n",
       "       [0.204273  ],\n",
       "       [0.3730081 ]], dtype=float32)"
      ]
     },
     "execution_count": 163,
     "metadata": {},
     "output_type": "execute_result"
    }
   ],
   "source": [
    "preds = model.predict(test_df)\n",
    "preds"
   ]
  },
  {
   "cell_type": "code",
   "execution_count": 164,
   "id": "6b3faaab-1605-4903-a389-f08f90c3942e",
   "metadata": {},
   "outputs": [
    {
     "data": {
      "text/html": [
       "<div>\n",
       "<style scoped>\n",
       "    .dataframe tbody tr th:only-of-type {\n",
       "        vertical-align: middle;\n",
       "    }\n",
       "\n",
       "    .dataframe tbody tr th {\n",
       "        vertical-align: top;\n",
       "    }\n",
       "\n",
       "    .dataframe thead th {\n",
       "        text-align: right;\n",
       "    }\n",
       "</style>\n",
       "<table border=\"1\" class=\"dataframe\">\n",
       "  <thead>\n",
       "    <tr style=\"text-align: right;\">\n",
       "      <th></th>\n",
       "      <th>id</th>\n",
       "      <th>covid19</th>\n",
       "    </tr>\n",
       "  </thead>\n",
       "  <tbody>\n",
       "    <tr>\n",
       "      <th>0</th>\n",
       "      <td>3806</td>\n",
       "      <td>0.159885</td>\n",
       "    </tr>\n",
       "    <tr>\n",
       "      <th>1</th>\n",
       "      <td>3807</td>\n",
       "      <td>0.252292</td>\n",
       "    </tr>\n",
       "    <tr>\n",
       "      <th>2</th>\n",
       "      <td>3808</td>\n",
       "      <td>0.077047</td>\n",
       "    </tr>\n",
       "    <tr>\n",
       "      <th>3</th>\n",
       "      <td>3809</td>\n",
       "      <td>0.145037</td>\n",
       "    </tr>\n",
       "    <tr>\n",
       "      <th>4</th>\n",
       "      <td>3810</td>\n",
       "      <td>0.164802</td>\n",
       "    </tr>\n",
       "    <tr>\n",
       "      <th>...</th>\n",
       "      <td>...</td>\n",
       "      <td>...</td>\n",
       "    </tr>\n",
       "    <tr>\n",
       "      <th>5727</th>\n",
       "      <td>9533</td>\n",
       "      <td>0.040841</td>\n",
       "    </tr>\n",
       "    <tr>\n",
       "      <th>5728</th>\n",
       "      <td>9534</td>\n",
       "      <td>0.162242</td>\n",
       "    </tr>\n",
       "    <tr>\n",
       "      <th>5729</th>\n",
       "      <td>9535</td>\n",
       "      <td>0.236268</td>\n",
       "    </tr>\n",
       "    <tr>\n",
       "      <th>5730</th>\n",
       "      <td>9536</td>\n",
       "      <td>0.204273</td>\n",
       "    </tr>\n",
       "    <tr>\n",
       "      <th>5731</th>\n",
       "      <td>9537</td>\n",
       "      <td>0.373008</td>\n",
       "    </tr>\n",
       "  </tbody>\n",
       "</table>\n",
       "<p>5732 rows × 2 columns</p>\n",
       "</div>"
      ],
      "text/plain": [
       "        id   covid19\n",
       "0     3806  0.159885\n",
       "1     3807  0.252292\n",
       "2     3808  0.077047\n",
       "3     3809  0.145037\n",
       "4     3810  0.164802\n",
       "...    ...       ...\n",
       "5727  9533  0.040841\n",
       "5728  9534  0.162242\n",
       "5729  9535  0.236268\n",
       "5730  9536  0.204273\n",
       "5731  9537  0.373008\n",
       "\n",
       "[5732 rows x 2 columns]"
      ]
     },
     "execution_count": 164,
     "metadata": {},
     "output_type": "execute_result"
    }
   ],
   "source": [
    "submission = pd.read_csv('wav_dataset/sample_submission.csv')\n",
    "submission['covid19'] = preds\n",
    "submission"
   ]
  },
  {
   "cell_type": "code",
   "execution_count": 165,
   "id": "392bb698-5e9c-4f7a-a6c9-e79f19026d95",
   "metadata": {},
   "outputs": [
    {
     "data": {
      "text/plain": [
       "0.144100    2\n",
       "0.069640    2\n",
       "0.051973    2\n",
       "0.088387    2\n",
       "0.159885    1\n",
       "           ..\n",
       "0.077957    1\n",
       "0.046694    1\n",
       "0.113289    1\n",
       "0.146966    1\n",
       "0.373008    1\n",
       "Name: covid19, Length: 5728, dtype: int64"
      ]
     },
     "execution_count": 165,
     "metadata": {},
     "output_type": "execute_result"
    }
   ],
   "source": [
    "submission['covid19'].value_counts()"
   ]
  },
  {
   "cell_type": "code",
   "execution_count": 166,
   "id": "1ef0dd0c-6804-4794-9a06-6c21733413b0",
   "metadata": {},
   "outputs": [],
   "source": [
    "submission.loc[(submission.covid19 < 0.27), 'covid19'] = 0\n",
    "submission.loc[(submission.covid19 >= 0.27), 'covid19'] = 1"
   ]
  },
  {
   "cell_type": "code",
   "execution_count": 167,
   "id": "556fbcb1-1425-4cf4-abbb-2c791bcb26f6",
   "metadata": {},
   "outputs": [
    {
     "data": {
      "text/plain": [
       "0.0    5224\n",
       "1.0     508\n",
       "Name: covid19, dtype: int64"
      ]
     },
     "execution_count": 167,
     "metadata": {},
     "output_type": "execute_result"
    }
   ],
   "source": [
    "submission['covid19'].value_counts()"
   ]
  },
  {
   "cell_type": "code",
   "execution_count": 168,
   "id": "40f1c53a-ac7a-4282-ba10-5e06fad09c8f",
   "metadata": {},
   "outputs": [
    {
     "data": {
      "text/html": [
       "<div>\n",
       "<style scoped>\n",
       "    .dataframe tbody tr th:only-of-type {\n",
       "        vertical-align: middle;\n",
       "    }\n",
       "\n",
       "    .dataframe tbody tr th {\n",
       "        vertical-align: top;\n",
       "    }\n",
       "\n",
       "    .dataframe thead th {\n",
       "        text-align: right;\n",
       "    }\n",
       "</style>\n",
       "<table border=\"1\" class=\"dataframe\">\n",
       "  <thead>\n",
       "    <tr style=\"text-align: right;\">\n",
       "      <th></th>\n",
       "      <th>id</th>\n",
       "      <th>covid19</th>\n",
       "    </tr>\n",
       "  </thead>\n",
       "  <tbody>\n",
       "    <tr>\n",
       "      <th>0</th>\n",
       "      <td>3806</td>\n",
       "      <td>0.0</td>\n",
       "    </tr>\n",
       "    <tr>\n",
       "      <th>1</th>\n",
       "      <td>3807</td>\n",
       "      <td>0.0</td>\n",
       "    </tr>\n",
       "    <tr>\n",
       "      <th>2</th>\n",
       "      <td>3808</td>\n",
       "      <td>0.0</td>\n",
       "    </tr>\n",
       "    <tr>\n",
       "      <th>3</th>\n",
       "      <td>3809</td>\n",
       "      <td>0.0</td>\n",
       "    </tr>\n",
       "    <tr>\n",
       "      <th>4</th>\n",
       "      <td>3810</td>\n",
       "      <td>0.0</td>\n",
       "    </tr>\n",
       "    <tr>\n",
       "      <th>...</th>\n",
       "      <td>...</td>\n",
       "      <td>...</td>\n",
       "    </tr>\n",
       "    <tr>\n",
       "      <th>5727</th>\n",
       "      <td>9533</td>\n",
       "      <td>0.0</td>\n",
       "    </tr>\n",
       "    <tr>\n",
       "      <th>5728</th>\n",
       "      <td>9534</td>\n",
       "      <td>0.0</td>\n",
       "    </tr>\n",
       "    <tr>\n",
       "      <th>5729</th>\n",
       "      <td>9535</td>\n",
       "      <td>0.0</td>\n",
       "    </tr>\n",
       "    <tr>\n",
       "      <th>5730</th>\n",
       "      <td>9536</td>\n",
       "      <td>0.0</td>\n",
       "    </tr>\n",
       "    <tr>\n",
       "      <th>5731</th>\n",
       "      <td>9537</td>\n",
       "      <td>1.0</td>\n",
       "    </tr>\n",
       "  </tbody>\n",
       "</table>\n",
       "<p>5732 rows × 2 columns</p>\n",
       "</div>"
      ],
      "text/plain": [
       "        id  covid19\n",
       "0     3806      0.0\n",
       "1     3807      0.0\n",
       "2     3808      0.0\n",
       "3     3809      0.0\n",
       "4     3810      0.0\n",
       "...    ...      ...\n",
       "5727  9533      0.0\n",
       "5728  9534      0.0\n",
       "5729  9535      0.0\n",
       "5730  9536      0.0\n",
       "5731  9537      1.0\n",
       "\n",
       "[5732 rows x 2 columns]"
      ]
     },
     "execution_count": 168,
     "metadata": {},
     "output_type": "execute_result"
    }
   ],
   "source": [
    "submission"
   ]
  },
  {
   "cell_type": "code",
   "execution_count": 169,
   "id": "d40fe3d9-c75e-45ec-944b-2134cd7d7987",
   "metadata": {},
   "outputs": [
    {
     "data": {
      "text/html": [
       "<div>\n",
       "<style scoped>\n",
       "    .dataframe tbody tr th:only-of-type {\n",
       "        vertical-align: middle;\n",
       "    }\n",
       "\n",
       "    .dataframe tbody tr th {\n",
       "        vertical-align: top;\n",
       "    }\n",
       "\n",
       "    .dataframe thead th {\n",
       "        text-align: right;\n",
       "    }\n",
       "</style>\n",
       "<table border=\"1\" class=\"dataframe\">\n",
       "  <thead>\n",
       "    <tr style=\"text-align: right;\">\n",
       "      <th></th>\n",
       "      <th>id</th>\n",
       "      <th>covid19</th>\n",
       "    </tr>\n",
       "  </thead>\n",
       "  <tbody>\n",
       "    <tr>\n",
       "      <th>0</th>\n",
       "      <td>3806</td>\n",
       "      <td>0</td>\n",
       "    </tr>\n",
       "    <tr>\n",
       "      <th>1</th>\n",
       "      <td>3807</td>\n",
       "      <td>0</td>\n",
       "    </tr>\n",
       "    <tr>\n",
       "      <th>2</th>\n",
       "      <td>3808</td>\n",
       "      <td>0</td>\n",
       "    </tr>\n",
       "    <tr>\n",
       "      <th>3</th>\n",
       "      <td>3809</td>\n",
       "      <td>0</td>\n",
       "    </tr>\n",
       "    <tr>\n",
       "      <th>4</th>\n",
       "      <td>3810</td>\n",
       "      <td>0</td>\n",
       "    </tr>\n",
       "    <tr>\n",
       "      <th>...</th>\n",
       "      <td>...</td>\n",
       "      <td>...</td>\n",
       "    </tr>\n",
       "    <tr>\n",
       "      <th>5727</th>\n",
       "      <td>9533</td>\n",
       "      <td>0</td>\n",
       "    </tr>\n",
       "    <tr>\n",
       "      <th>5728</th>\n",
       "      <td>9534</td>\n",
       "      <td>0</td>\n",
       "    </tr>\n",
       "    <tr>\n",
       "      <th>5729</th>\n",
       "      <td>9535</td>\n",
       "      <td>0</td>\n",
       "    </tr>\n",
       "    <tr>\n",
       "      <th>5730</th>\n",
       "      <td>9536</td>\n",
       "      <td>0</td>\n",
       "    </tr>\n",
       "    <tr>\n",
       "      <th>5731</th>\n",
       "      <td>9537</td>\n",
       "      <td>1</td>\n",
       "    </tr>\n",
       "  </tbody>\n",
       "</table>\n",
       "<p>5732 rows × 2 columns</p>\n",
       "</div>"
      ],
      "text/plain": [
       "        id  covid19\n",
       "0     3806        0\n",
       "1     3807        0\n",
       "2     3808        0\n",
       "3     3809        0\n",
       "4     3810        0\n",
       "...    ...      ...\n",
       "5727  9533        0\n",
       "5728  9534        0\n",
       "5729  9535        0\n",
       "5730  9536        0\n",
       "5731  9537        1\n",
       "\n",
       "[5732 rows x 2 columns]"
      ]
     },
     "execution_count": 169,
     "metadata": {},
     "output_type": "execute_result"
    }
   ],
   "source": [
    "submission['covid19'] = submission['covid19'].astype('int')\n",
    "submission"
   ]
  },
  {
   "cell_type": "code",
   "execution_count": 170,
   "id": "d271d722-a7fc-46bc-bb0e-649cc889c75b",
   "metadata": {},
   "outputs": [],
   "source": [
    "submission.to_csv('./submit_dnn_0623_02.csv', index=False)"
   ]
  },
  {
   "cell_type": "code",
   "execution_count": null,
   "id": "9419c752-3c4c-4aee-8fa8-941da3c307c0",
   "metadata": {},
   "outputs": [],
   "source": []
  }
 ],
 "metadata": {
  "kernelspec": {
   "display_name": "Python 3 (ipykernel)",
   "language": "python",
   "name": "python3"
  },
  "language_info": {
   "codemirror_mode": {
    "name": "ipython",
    "version": 3
   },
   "file_extension": ".py",
   "mimetype": "text/x-python",
   "name": "python",
   "nbconvert_exporter": "python",
   "pygments_lexer": "ipython3",
   "version": "3.8.8"
  }
 },
 "nbformat": 4,
 "nbformat_minor": 5
}
